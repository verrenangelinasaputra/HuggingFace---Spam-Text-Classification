{
  "metadata": {
    "kernelspec": {
      "language": "python",
      "display_name": "Python 3",
      "name": "python3"
    },
    "language_info": {
      "name": "python",
      "version": "3.10.14",
      "mimetype": "text/x-python",
      "codemirror_mode": {
        "name": "ipython",
        "version": 3
      },
      "pygments_lexer": "ipython3",
      "nbconvert_exporter": "python",
      "file_extension": ".py"
    },
    "kaggle": {
      "accelerator": "gpu",
      "dataSources": [
        {
          "sourceId": 8677743,
          "sourceType": "datasetVersion",
          "datasetId": 5201705
        }
      ],
      "dockerImageVersionId": 30787,
      "isInternetEnabled": true,
      "language": "python",
      "sourceType": "notebook",
      "isGpuEnabled": true
    },
    "colab": {
      "provenance": []
    }
  },
  "nbformat_minor": 0,
  "nbformat": 4,
  "cells": [
    {
      "cell_type": "markdown",
      "source": [
        "# **Deep Learning**\n",
        "\n",
        "### **Nama:** Verren Angelina Saputra\n",
        "### **NIM:** 2602093600\n",
        "\n",
        "- Model: https://huggingface.co/protectai/deberta-v3-base-prompt-injection-v2\n",
        "- Dataset: https://www.kaggle.com/datasets/raflyahmadzainur/spam-dataset-indonesia/code"
      ],
      "metadata": {
        "id": "hUUfJ8eDapSZ"
      }
    },
    {
      "cell_type": "markdown",
      "source": [
        "# **1. Import Library**\n",
        "\n",
        "Training model dilakukan dengan platform kaggle dengan GPU 100"
      ],
      "metadata": {
        "id": "covm2M9tbiu-"
      }
    },
    {
      "cell_type": "code",
      "source": [
        "import numpy as np\n",
        "import pandas as pd\n",
        "\n",
        "# Memasukkan input berupa direktori dataset yang diperlukan\n",
        "import os\n",
        "for dirname, _, filenames in os.walk('/kaggle/input'):\n",
        "    for filename in filenames:\n",
        "        print(os.path.join(dirname, filename))"
      ],
      "metadata": {
        "_uuid": "8f2839f25d086af736a60e9eeb907d3b93b6e0e5",
        "_cell_guid": "b1076dfc-b9ad-4769-8c92-a6c4dae69d19",
        "execution": {
          "iopub.status.busy": "2024-10-09T02:39:21.132633Z",
          "iopub.execute_input": "2024-10-09T02:39:21.133458Z",
          "iopub.status.idle": "2024-10-09T02:39:22.919341Z",
          "shell.execute_reply.started": "2024-10-09T02:39:21.133419Z",
          "shell.execute_reply": "2024-10-09T02:39:22.918243Z"
        },
        "trusted": true,
        "id": "eiLWf6OHainb",
        "outputId": "a87822fd-3064-4a0e-aa13-68841fe59b6f"
      },
      "execution_count": null,
      "outputs": [
        {
          "name": "stdout",
          "text": "/kaggle/input/spam-dataset-indonesia/spam.csv\n",
          "output_type": "stream"
        }
      ]
    },
    {
      "cell_type": "code",
      "source": [
        "# Perintah yang digunakan untuk menginstal pustaka pada lingkungan Python\n",
        "# melakukan instalasi transformer, accelerate, dan datasets supaya bisa import variasi library dari pustaka ini\n",
        "\n",
        "!pip install transformers[torch]\n",
        "!pip install accelerate -U\n",
        "!pip install datasets"
      ],
      "metadata": {
        "execution": {
          "iopub.status.busy": "2024-10-09T02:39:27.872134Z",
          "iopub.execute_input": "2024-10-09T02:39:27.872583Z",
          "iopub.status.idle": "2024-10-09T02:40:06.746975Z",
          "shell.execute_reply.started": "2024-10-09T02:39:27.872547Z",
          "shell.execute_reply": "2024-10-09T02:40:06.745782Z"
        },
        "collapsed": true,
        "jupyter": {
          "outputs_hidden": true
        },
        "trusted": true,
        "id": "-TTZhlW-ainf",
        "outputId": "4f359fed-cc8d-4990-8770-3b3e7e46397e"
      },
      "execution_count": null,
      "outputs": [
        {
          "name": "stdout",
          "text": "Requirement already satisfied: transformers[torch] in /opt/conda/lib/python3.10/site-packages (4.45.1)\nRequirement already satisfied: filelock in /opt/conda/lib/python3.10/site-packages (from transformers[torch]) (3.15.1)\nRequirement already satisfied: huggingface-hub<1.0,>=0.23.2 in /opt/conda/lib/python3.10/site-packages (from transformers[torch]) (0.25.1)\nRequirement already satisfied: numpy>=1.17 in /opt/conda/lib/python3.10/site-packages (from transformers[torch]) (1.26.4)\nRequirement already satisfied: packaging>=20.0 in /opt/conda/lib/python3.10/site-packages (from transformers[torch]) (21.3)\nRequirement already satisfied: pyyaml>=5.1 in /opt/conda/lib/python3.10/site-packages (from transformers[torch]) (6.0.2)\nRequirement already satisfied: regex!=2019.12.17 in /opt/conda/lib/python3.10/site-packages (from transformers[torch]) (2024.5.15)\nRequirement already satisfied: requests in /opt/conda/lib/python3.10/site-packages (from transformers[torch]) (2.32.3)\nRequirement already satisfied: safetensors>=0.4.1 in /opt/conda/lib/python3.10/site-packages (from transformers[torch]) (0.4.5)\nRequirement already satisfied: tokenizers<0.21,>=0.20 in /opt/conda/lib/python3.10/site-packages (from transformers[torch]) (0.20.0)\nRequirement already satisfied: tqdm>=4.27 in /opt/conda/lib/python3.10/site-packages (from transformers[torch]) (4.66.4)\nRequirement already satisfied: accelerate>=0.26.0 in /opt/conda/lib/python3.10/site-packages (from transformers[torch]) (0.34.2)\nRequirement already satisfied: torch in /opt/conda/lib/python3.10/site-packages (from transformers[torch]) (2.4.0)\nRequirement already satisfied: psutil in /opt/conda/lib/python3.10/site-packages (from accelerate>=0.26.0->transformers[torch]) (5.9.3)\nRequirement already satisfied: fsspec>=2023.5.0 in /opt/conda/lib/python3.10/site-packages (from huggingface-hub<1.0,>=0.23.2->transformers[torch]) (2024.6.1)\nRequirement already satisfied: typing-extensions>=3.7.4.3 in /opt/conda/lib/python3.10/site-packages (from huggingface-hub<1.0,>=0.23.2->transformers[torch]) (4.12.2)\nRequirement already satisfied: pyparsing!=3.0.5,>=2.0.2 in /opt/conda/lib/python3.10/site-packages (from packaging>=20.0->transformers[torch]) (3.1.2)\nRequirement already satisfied: sympy in /opt/conda/lib/python3.10/site-packages (from torch->transformers[torch]) (1.13.3)\nRequirement already satisfied: networkx in /opt/conda/lib/python3.10/site-packages (from torch->transformers[torch]) (3.3)\nRequirement already satisfied: jinja2 in /opt/conda/lib/python3.10/site-packages (from torch->transformers[torch]) (3.1.4)\nRequirement already satisfied: charset-normalizer<4,>=2 in /opt/conda/lib/python3.10/site-packages (from requests->transformers[torch]) (3.3.2)\nRequirement already satisfied: idna<4,>=2.5 in /opt/conda/lib/python3.10/site-packages (from requests->transformers[torch]) (3.7)\nRequirement already satisfied: urllib3<3,>=1.21.1 in /opt/conda/lib/python3.10/site-packages (from requests->transformers[torch]) (1.26.18)\nRequirement already satisfied: certifi>=2017.4.17 in /opt/conda/lib/python3.10/site-packages (from requests->transformers[torch]) (2024.8.30)\nRequirement already satisfied: MarkupSafe>=2.0 in /opt/conda/lib/python3.10/site-packages (from jinja2->torch->transformers[torch]) (2.1.5)\nRequirement already satisfied: mpmath<1.4,>=1.1.0 in /opt/conda/lib/python3.10/site-packages (from sympy->torch->transformers[torch]) (1.3.0)\nRequirement already satisfied: accelerate in /opt/conda/lib/python3.10/site-packages (0.34.2)\nCollecting accelerate\n  Downloading accelerate-1.0.0-py3-none-any.whl.metadata (19 kB)\nRequirement already satisfied: numpy<3.0.0,>=1.17 in /opt/conda/lib/python3.10/site-packages (from accelerate) (1.26.4)\nRequirement already satisfied: packaging>=20.0 in /opt/conda/lib/python3.10/site-packages (from accelerate) (21.3)\nRequirement already satisfied: psutil in /opt/conda/lib/python3.10/site-packages (from accelerate) (5.9.3)\nRequirement already satisfied: pyyaml in /opt/conda/lib/python3.10/site-packages (from accelerate) (6.0.2)\nRequirement already satisfied: torch>=1.10.0 in /opt/conda/lib/python3.10/site-packages (from accelerate) (2.4.0)\nRequirement already satisfied: huggingface-hub>=0.21.0 in /opt/conda/lib/python3.10/site-packages (from accelerate) (0.25.1)\nRequirement already satisfied: safetensors>=0.4.3 in /opt/conda/lib/python3.10/site-packages (from accelerate) (0.4.5)\nRequirement already satisfied: filelock in /opt/conda/lib/python3.10/site-packages (from huggingface-hub>=0.21.0->accelerate) (3.15.1)\nRequirement already satisfied: fsspec>=2023.5.0 in /opt/conda/lib/python3.10/site-packages (from huggingface-hub>=0.21.0->accelerate) (2024.6.1)\nRequirement already satisfied: requests in /opt/conda/lib/python3.10/site-packages (from huggingface-hub>=0.21.0->accelerate) (2.32.3)\nRequirement already satisfied: tqdm>=4.42.1 in /opt/conda/lib/python3.10/site-packages (from huggingface-hub>=0.21.0->accelerate) (4.66.4)\nRequirement already satisfied: typing-extensions>=3.7.4.3 in /opt/conda/lib/python3.10/site-packages (from huggingface-hub>=0.21.0->accelerate) (4.12.2)\nRequirement already satisfied: pyparsing!=3.0.5,>=2.0.2 in /opt/conda/lib/python3.10/site-packages (from packaging>=20.0->accelerate) (3.1.2)\nRequirement already satisfied: sympy in /opt/conda/lib/python3.10/site-packages (from torch>=1.10.0->accelerate) (1.13.3)\nRequirement already satisfied: networkx in /opt/conda/lib/python3.10/site-packages (from torch>=1.10.0->accelerate) (3.3)\nRequirement already satisfied: jinja2 in /opt/conda/lib/python3.10/site-packages (from torch>=1.10.0->accelerate) (3.1.4)\nRequirement already satisfied: MarkupSafe>=2.0 in /opt/conda/lib/python3.10/site-packages (from jinja2->torch>=1.10.0->accelerate) (2.1.5)\nRequirement already satisfied: charset-normalizer<4,>=2 in /opt/conda/lib/python3.10/site-packages (from requests->huggingface-hub>=0.21.0->accelerate) (3.3.2)\nRequirement already satisfied: idna<4,>=2.5 in /opt/conda/lib/python3.10/site-packages (from requests->huggingface-hub>=0.21.0->accelerate) (3.7)\nRequirement already satisfied: urllib3<3,>=1.21.1 in /opt/conda/lib/python3.10/site-packages (from requests->huggingface-hub>=0.21.0->accelerate) (1.26.18)\nRequirement already satisfied: certifi>=2017.4.17 in /opt/conda/lib/python3.10/site-packages (from requests->huggingface-hub>=0.21.0->accelerate) (2024.8.30)\nRequirement already satisfied: mpmath<1.4,>=1.1.0 in /opt/conda/lib/python3.10/site-packages (from sympy->torch>=1.10.0->accelerate) (1.3.0)\nDownloading accelerate-1.0.0-py3-none-any.whl (330 kB)\n\u001b[2K   \u001b[90m━━━━━━━━━━━━━━━━━━━━━━━━━━━━━━━━━━━━━━━━\u001b[0m \u001b[32m330.9/330.9 kB\u001b[0m \u001b[31m13.9 MB/s\u001b[0m eta \u001b[36m0:00:00\u001b[0m\n\u001b[?25hInstalling collected packages: accelerate\n  Attempting uninstall: accelerate\n    Found existing installation: accelerate 0.34.2\n    Uninstalling accelerate-0.34.2:\n      Successfully uninstalled accelerate-0.34.2\nSuccessfully installed accelerate-1.0.0\nRequirement already satisfied: datasets in /opt/conda/lib/python3.10/site-packages (3.0.1)\nRequirement already satisfied: filelock in /opt/conda/lib/python3.10/site-packages (from datasets) (3.15.1)\nRequirement already satisfied: numpy>=1.17 in /opt/conda/lib/python3.10/site-packages (from datasets) (1.26.4)\nRequirement already satisfied: pyarrow>=15.0.0 in /opt/conda/lib/python3.10/site-packages (from datasets) (16.1.0)\nRequirement already satisfied: dill<0.3.9,>=0.3.0 in /opt/conda/lib/python3.10/site-packages (from datasets) (0.3.8)\nRequirement already satisfied: pandas in /opt/conda/lib/python3.10/site-packages (from datasets) (2.2.2)\nRequirement already satisfied: requests>=2.32.2 in /opt/conda/lib/python3.10/site-packages (from datasets) (2.32.3)\nRequirement already satisfied: tqdm>=4.66.3 in /opt/conda/lib/python3.10/site-packages (from datasets) (4.66.4)\nRequirement already satisfied: xxhash in /opt/conda/lib/python3.10/site-packages (from datasets) (3.4.1)\nRequirement already satisfied: multiprocess in /opt/conda/lib/python3.10/site-packages (from datasets) (0.70.16)\nRequirement already satisfied: fsspec<=2024.6.1,>=2023.1.0 in /opt/conda/lib/python3.10/site-packages (from fsspec[http]<=2024.6.1,>=2023.1.0->datasets) (2024.6.1)\nRequirement already satisfied: aiohttp in /opt/conda/lib/python3.10/site-packages (from datasets) (3.9.5)\nRequirement already satisfied: huggingface-hub>=0.22.0 in /opt/conda/lib/python3.10/site-packages (from datasets) (0.25.1)\nRequirement already satisfied: packaging in /opt/conda/lib/python3.10/site-packages (from datasets) (21.3)\nRequirement already satisfied: pyyaml>=5.1 in /opt/conda/lib/python3.10/site-packages (from datasets) (6.0.2)\nRequirement already satisfied: aiosignal>=1.1.2 in /opt/conda/lib/python3.10/site-packages (from aiohttp->datasets) (1.3.1)\nRequirement already satisfied: attrs>=17.3.0 in /opt/conda/lib/python3.10/site-packages (from aiohttp->datasets) (23.2.0)\nRequirement already satisfied: frozenlist>=1.1.1 in /opt/conda/lib/python3.10/site-packages (from aiohttp->datasets) (1.4.1)\nRequirement already satisfied: multidict<7.0,>=4.5 in /opt/conda/lib/python3.10/site-packages (from aiohttp->datasets) (6.0.5)\nRequirement already satisfied: yarl<2.0,>=1.0 in /opt/conda/lib/python3.10/site-packages (from aiohttp->datasets) (1.9.4)\nRequirement already satisfied: async-timeout<5.0,>=4.0 in /opt/conda/lib/python3.10/site-packages (from aiohttp->datasets) (4.0.3)\nRequirement already satisfied: typing-extensions>=3.7.4.3 in /opt/conda/lib/python3.10/site-packages (from huggingface-hub>=0.22.0->datasets) (4.12.2)\nRequirement already satisfied: pyparsing!=3.0.5,>=2.0.2 in /opt/conda/lib/python3.10/site-packages (from packaging->datasets) (3.1.2)\nRequirement already satisfied: charset-normalizer<4,>=2 in /opt/conda/lib/python3.10/site-packages (from requests>=2.32.2->datasets) (3.3.2)\nRequirement already satisfied: idna<4,>=2.5 in /opt/conda/lib/python3.10/site-packages (from requests>=2.32.2->datasets) (3.7)\nRequirement already satisfied: urllib3<3,>=1.21.1 in /opt/conda/lib/python3.10/site-packages (from requests>=2.32.2->datasets) (1.26.18)\nRequirement already satisfied: certifi>=2017.4.17 in /opt/conda/lib/python3.10/site-packages (from requests>=2.32.2->datasets) (2024.8.30)\nRequirement already satisfied: python-dateutil>=2.8.2 in /opt/conda/lib/python3.10/site-packages (from pandas->datasets) (2.9.0.post0)\nRequirement already satisfied: pytz>=2020.1 in /opt/conda/lib/python3.10/site-packages (from pandas->datasets) (2024.1)\nRequirement already satisfied: tzdata>=2022.7 in /opt/conda/lib/python3.10/site-packages (from pandas->datasets) (2024.1)\nRequirement already satisfied: six>=1.5 in /opt/conda/lib/python3.10/site-packages (from python-dateutil>=2.8.2->pandas->datasets) (1.16.0)\n",
          "output_type": "stream"
        }
      ]
    },
    {
      "cell_type": "code",
      "source": [
        "# import packages dan libraries yang diperlukan : mulai dari basic library sampai pustaka transformer, accelerate, dan sklearn\n",
        "import pandas as pd\n",
        "import matplotlib.pyplot as plt\n",
        "import numpy as np\n",
        "import seaborn as sns\n",
        "import transformers, torch, datasets, os, json\n",
        "from sklearn.model_selection import train_test_split\n",
        "from sklearn.metrics import confusion_matrix, ConfusionMatrixDisplay, classification_report\n",
        "from sklearn.metrics import precision_recall_fscore_support as score\n",
        "\n",
        "from transformers import AutoTokenizer, DataCollatorWithPadding\n",
        "from transformers import AutoModelForSequenceClassification, TrainingArguments, Trainer, logging\n",
        "\n",
        "import accelerate\n",
        "from accelerate import notebook_launcher\n",
        "from accelerate import Accelerator\n",
        "\n",
        "# import library warnings untuk filterisasi warnings yang tidak diperlukan / abaikan warnings\n",
        "import warnings\n",
        "warnings.filterwarnings('ignore')"
      ],
      "metadata": {
        "execution": {
          "iopub.status.busy": "2024-10-09T02:40:06.749377Z",
          "iopub.execute_input": "2024-10-09T02:40:06.749843Z",
          "iopub.status.idle": "2024-10-09T02:40:35.277535Z",
          "shell.execute_reply.started": "2024-10-09T02:40:06.749796Z",
          "shell.execute_reply": "2024-10-09T02:40:35.276490Z"
        },
        "trusted": true,
        "id": "tX5GkM1Paing"
      },
      "execution_count": null,
      "outputs": []
    },
    {
      "cell_type": "code",
      "source": [
        "# Memeriksa apakah GPU tersedia di mesin yang sedang digunakan, khususnya menggunakan CUDA untuk komputasi dengan kompleksitas yang tinggi\n",
        "\n",
        "device = torch.device(\"cuda\" if torch.cuda.is_available() else \"cpu\")\n",
        "device"
      ],
      "metadata": {
        "execution": {
          "iopub.status.busy": "2024-10-09T02:40:35.278900Z",
          "iopub.execute_input": "2024-10-09T02:40:35.279576Z",
          "iopub.status.idle": "2024-10-09T02:40:35.324385Z",
          "shell.execute_reply.started": "2024-10-09T02:40:35.279521Z",
          "shell.execute_reply": "2024-10-09T02:40:35.321999Z"
        },
        "trusted": true,
        "id": "mGGyLylcainh",
        "outputId": "4ffabe4d-1f44-42d3-c4f2-f8cc312c5c77"
      },
      "execution_count": null,
      "outputs": [
        {
          "execution_count": 4,
          "output_type": "execute_result",
          "data": {
            "text/plain": "device(type='cuda')"
          },
          "metadata": {}
        }
      ]
    },
    {
      "cell_type": "markdown",
      "source": [
        "# **2. Membaca Dataset**\n",
        "\n",
        "Menggunakan dataset yang bersumber dari kaggle. Dataset ini berisi sebuah informasi teks yang dianggap sebagai spam dan tidak spam. Maka dari itu, pre-trained model huggingface membantu analisa dengan teks classification"
      ],
      "metadata": {
        "id": "a1WTeAp3cn2X"
      }
    },
    {
      "cell_type": "code",
      "source": [
        "# Gunakan direktori yang sesuai\n",
        "df = pd.read_csv('/kaggle/input/spam-dataset-indonesia/spam.csv')"
      ],
      "metadata": {
        "execution": {
          "iopub.status.busy": "2024-10-09T02:40:35.329488Z",
          "iopub.execute_input": "2024-10-09T02:40:35.330404Z",
          "iopub.status.idle": "2024-10-09T02:40:35.455600Z",
          "shell.execute_reply.started": "2024-10-09T02:40:35.330300Z",
          "shell.execute_reply": "2024-10-09T02:40:35.454510Z"
        },
        "trusted": true,
        "id": "mvrtnKVcainh"
      },
      "execution_count": null,
      "outputs": []
    },
    {
      "cell_type": "code",
      "source": [
        "# Print informasi mengenai dataset, terdapat 2 jenis kolom saja yaitu kategori dan pesan\n",
        "df.info()"
      ],
      "metadata": {
        "execution": {
          "iopub.status.busy": "2024-10-09T02:40:35.457206Z",
          "iopub.execute_input": "2024-10-09T02:40:35.458116Z",
          "iopub.status.idle": "2024-10-09T02:40:35.501644Z",
          "shell.execute_reply.started": "2024-10-09T02:40:35.458056Z",
          "shell.execute_reply": "2024-10-09T02:40:35.500526Z"
        },
        "trusted": true,
        "id": "fyDDmr4xaini",
        "outputId": "662055e1-101c-49de-a497-44f40fe61958"
      },
      "execution_count": null,
      "outputs": [
        {
          "name": "stdout",
          "text": "<class 'pandas.core.frame.DataFrame'>\nRangeIndex: 2636 entries, 0 to 2635\nData columns (total 2 columns):\n #   Column    Non-Null Count  Dtype \n---  ------    --------------  ----- \n 0   Kategori  2636 non-null   object\n 1   Pesan     2636 non-null   object\ndtypes: object(2)\nmemory usage: 41.3+ KB\n",
          "output_type": "stream"
        }
      ]
    },
    {
      "cell_type": "code",
      "source": [
        "# Terdapat 2636 baris dengan 2 kolom secara keseluruhan\n",
        "df.shape"
      ],
      "metadata": {
        "execution": {
          "iopub.status.busy": "2024-10-09T02:40:35.503094Z",
          "iopub.execute_input": "2024-10-09T02:40:35.503491Z",
          "iopub.status.idle": "2024-10-09T02:40:35.510132Z",
          "shell.execute_reply.started": "2024-10-09T02:40:35.503447Z",
          "shell.execute_reply": "2024-10-09T02:40:35.509144Z"
        },
        "trusted": true,
        "id": "Zv-kbxqUaini",
        "outputId": "676cfb6a-51ac-4507-b4ef-606f02deded7"
      },
      "execution_count": null,
      "outputs": [
        {
          "execution_count": 7,
          "output_type": "execute_result",
          "data": {
            "text/plain": "(2636, 2)"
          },
          "metadata": {}
        }
      ]
    },
    {
      "cell_type": "markdown",
      "source": [
        "# **3. Pre-processing Dataset**\n",
        "\n",
        "Membersihkan data dan melakukan balancing data. Kualitas initial data yang kita pakai akan mempengaruhi performance model dalam mempelajari setiap data yang diberikan"
      ],
      "metadata": {
        "id": "cztRHcXtdNC5"
      }
    },
    {
      "cell_type": "code",
      "source": [
        "# Melakukan pengecekkan apakah terdapat data null atau tidak\n",
        "df.isnull().sum()"
      ],
      "metadata": {
        "execution": {
          "iopub.status.busy": "2024-10-09T02:40:35.511377Z",
          "iopub.execute_input": "2024-10-09T02:40:35.511699Z",
          "iopub.status.idle": "2024-10-09T02:40:35.524239Z",
          "shell.execute_reply.started": "2024-10-09T02:40:35.511665Z",
          "shell.execute_reply": "2024-10-09T02:40:35.523291Z"
        },
        "trusted": true,
        "id": "xHdU7wS1ainj",
        "outputId": "985c5cde-5024-4064-8fa5-4db14c9efbec"
      },
      "execution_count": null,
      "outputs": [
        {
          "execution_count": 8,
          "output_type": "execute_result",
          "data": {
            "text/plain": "Kategori    0\nPesan       0\ndtype: int64"
          },
          "metadata": {}
        }
      ]
    },
    {
      "cell_type": "code",
      "source": [
        "# Melakukan pengecekkan apakah terdapat data duplikat atau tidak\n",
        "df.duplicated().sum()"
      ],
      "metadata": {
        "execution": {
          "iopub.status.busy": "2024-10-09T02:40:35.525639Z",
          "iopub.execute_input": "2024-10-09T02:40:35.526018Z",
          "iopub.status.idle": "2024-10-09T02:40:35.546946Z",
          "shell.execute_reply.started": "2024-10-09T02:40:35.525977Z",
          "shell.execute_reply": "2024-10-09T02:40:35.545940Z"
        },
        "trusted": true,
        "id": "k5kjxozNainj",
        "outputId": "799e4231-60b1-416e-c012-9ba7334c4a85"
      },
      "execution_count": null,
      "outputs": [
        {
          "execution_count": 9,
          "output_type": "execute_result",
          "data": {
            "text/plain": "16"
          },
          "metadata": {}
        }
      ]
    },
    {
      "cell_type": "code",
      "source": [
        "# Drop setiap data duplikat\n",
        "df = df.drop_duplicates()"
      ],
      "metadata": {
        "execution": {
          "iopub.status.busy": "2024-10-09T02:40:35.548272Z",
          "iopub.execute_input": "2024-10-09T02:40:35.548654Z",
          "iopub.status.idle": "2024-10-09T02:40:35.566582Z",
          "shell.execute_reply.started": "2024-10-09T02:40:35.548613Z",
          "shell.execute_reply": "2024-10-09T02:40:35.565728Z"
        },
        "trusted": true,
        "id": "4SFv_1Hnaink"
      },
      "execution_count": null,
      "outputs": []
    },
    {
      "cell_type": "code",
      "source": [
        "# Cek ulang total data duplikat\n",
        "df.duplicated().sum()"
      ],
      "metadata": {
        "execution": {
          "iopub.status.busy": "2024-10-09T02:40:35.570820Z",
          "iopub.execute_input": "2024-10-09T02:40:35.571139Z",
          "iopub.status.idle": "2024-10-09T02:40:35.589675Z",
          "shell.execute_reply.started": "2024-10-09T02:40:35.571107Z",
          "shell.execute_reply": "2024-10-09T02:40:35.588575Z"
        },
        "trusted": true,
        "id": "jrX_-ZGAaink",
        "outputId": "b0fd83b1-1417-4f77-8706-bcfa80742e7e"
      },
      "execution_count": null,
      "outputs": [
        {
          "execution_count": 11,
          "output_type": "execute_result",
          "data": {
            "text/plain": "0"
          },
          "metadata": {}
        }
      ]
    },
    {
      "cell_type": "code",
      "source": [
        "# Cek ulang jumlah baris yang tersisa\n",
        "df.shape"
      ],
      "metadata": {
        "execution": {
          "iopub.status.busy": "2024-10-09T02:40:35.591011Z",
          "iopub.execute_input": "2024-10-09T02:40:35.591795Z",
          "iopub.status.idle": "2024-10-09T02:40:35.598864Z",
          "shell.execute_reply.started": "2024-10-09T02:40:35.591746Z",
          "shell.execute_reply": "2024-10-09T02:40:35.597668Z"
        },
        "trusted": true,
        "id": "1K0DmLXMaink",
        "outputId": "684df249-adf5-46cd-ff83-f597785c2b75"
      },
      "execution_count": null,
      "outputs": [
        {
          "execution_count": 12,
          "output_type": "execute_result",
          "data": {
            "text/plain": "(2620, 2)"
          },
          "metadata": {}
        }
      ]
    },
    {
      "cell_type": "code",
      "source": [
        "# Lihat jumlah masing-masing kategori : spam dan ham (not spam)\n",
        "df.Kategori.value_counts()"
      ],
      "metadata": {
        "execution": {
          "iopub.status.busy": "2024-10-09T02:40:35.600482Z",
          "iopub.execute_input": "2024-10-09T02:40:35.600896Z",
          "iopub.status.idle": "2024-10-09T02:40:35.618778Z",
          "shell.execute_reply.started": "2024-10-09T02:40:35.600855Z",
          "shell.execute_reply": "2024-10-09T02:40:35.617906Z"
        },
        "trusted": true,
        "id": "HoBHmD3vainl",
        "outputId": "3ba0dd98-8fd0-4f5a-a41d-dfbf0fc24001"
      },
      "execution_count": null,
      "outputs": [
        {
          "execution_count": 13,
          "output_type": "execute_result",
          "data": {
            "text/plain": "Kategori\nspam    1368\nham     1252\nName: count, dtype: int64"
          },
          "metadata": {}
        }
      ]
    },
    {
      "cell_type": "code",
      "source": [
        "# Encode label jadi 0 (ham) dan 1 (spam)\n",
        "df['label'] = df.Kategori.apply(lambda x: 1 if x == 'spam' else 0)\n",
        "df.label.value_counts()"
      ],
      "metadata": {
        "execution": {
          "iopub.status.busy": "2024-10-09T02:40:35.620193Z",
          "iopub.execute_input": "2024-10-09T02:40:35.620946Z",
          "iopub.status.idle": "2024-10-09T02:40:35.636886Z",
          "shell.execute_reply.started": "2024-10-09T02:40:35.620902Z",
          "shell.execute_reply": "2024-10-09T02:40:35.635773Z"
        },
        "trusted": true,
        "id": "WWoOsgQdainl",
        "outputId": "1a26325a-5306-4936-916b-9a00b340dd9f"
      },
      "execution_count": null,
      "outputs": [
        {
          "execution_count": 14,
          "output_type": "execute_result",
          "data": {
            "text/plain": "label\n1    1368\n0    1252\nName: count, dtype: int64"
          },
          "metadata": {}
        }
      ]
    },
    {
      "cell_type": "code",
      "source": [
        "# Tampilkan 5 data teratas yang sudah di encode\n",
        "df.head()"
      ],
      "metadata": {
        "execution": {
          "iopub.status.busy": "2024-10-09T02:40:35.638816Z",
          "iopub.execute_input": "2024-10-09T02:40:35.639259Z",
          "iopub.status.idle": "2024-10-09T02:40:35.660096Z",
          "shell.execute_reply.started": "2024-10-09T02:40:35.639211Z",
          "shell.execute_reply": "2024-10-09T02:40:35.658967Z"
        },
        "trusted": true,
        "id": "5d4TgUDhainl",
        "outputId": "94775418-3841-4329-9419-83a4ba2e38e5"
      },
      "execution_count": null,
      "outputs": [
        {
          "execution_count": 15,
          "output_type": "execute_result",
          "data": {
            "text/plain": "  Kategori                                              Pesan  label\n0     spam  Secara alami tak tertahankan identitas perusah...      1\n1     spam  Fanny Gunslinger Perdagangan Saham adalah Merr...      1\n2     spam  Rumah -rumah baru yang luar biasa menjadi muda...      1\n3     spam  4 Permintaan Khusus Pencetakan Warna Informasi...      1\n4     spam  Jangan punya uang, dapatkan CD perangkat lunak...      1",
            "text/html": "<div>\n<style scoped>\n    .dataframe tbody tr th:only-of-type {\n        vertical-align: middle;\n    }\n\n    .dataframe tbody tr th {\n        vertical-align: top;\n    }\n\n    .dataframe thead th {\n        text-align: right;\n    }\n</style>\n<table border=\"1\" class=\"dataframe\">\n  <thead>\n    <tr style=\"text-align: right;\">\n      <th></th>\n      <th>Kategori</th>\n      <th>Pesan</th>\n      <th>label</th>\n    </tr>\n  </thead>\n  <tbody>\n    <tr>\n      <th>0</th>\n      <td>spam</td>\n      <td>Secara alami tak tertahankan identitas perusah...</td>\n      <td>1</td>\n    </tr>\n    <tr>\n      <th>1</th>\n      <td>spam</td>\n      <td>Fanny Gunslinger Perdagangan Saham adalah Merr...</td>\n      <td>1</td>\n    </tr>\n    <tr>\n      <th>2</th>\n      <td>spam</td>\n      <td>Rumah -rumah baru yang luar biasa menjadi muda...</td>\n      <td>1</td>\n    </tr>\n    <tr>\n      <th>3</th>\n      <td>spam</td>\n      <td>4 Permintaan Khusus Pencetakan Warna Informasi...</td>\n      <td>1</td>\n    </tr>\n    <tr>\n      <th>4</th>\n      <td>spam</td>\n      <td>Jangan punya uang, dapatkan CD perangkat lunak...</td>\n      <td>1</td>\n    </tr>\n  </tbody>\n</table>\n</div>"
          },
          "metadata": {}
        }
      ]
    },
    {
      "cell_type": "code",
      "source": [
        "# Menyeleksi dua kolom spesifik dari DataFrame utama\n",
        "df_label=df[['label','Pesan']]\n",
        "df_label.head()"
      ],
      "metadata": {
        "execution": {
          "iopub.status.busy": "2024-10-09T02:40:35.663442Z",
          "iopub.execute_input": "2024-10-09T02:40:35.663823Z",
          "iopub.status.idle": "2024-10-09T02:40:35.679683Z",
          "shell.execute_reply.started": "2024-10-09T02:40:35.663785Z",
          "shell.execute_reply": "2024-10-09T02:40:35.678525Z"
        },
        "trusted": true,
        "id": "k8D8KKqZainm",
        "outputId": "bdaf85f9-2bb8-4c0c-814a-5e94fa258aeb"
      },
      "execution_count": null,
      "outputs": [
        {
          "execution_count": 16,
          "output_type": "execute_result",
          "data": {
            "text/plain": "   label                                              Pesan\n0      1  Secara alami tak tertahankan identitas perusah...\n1      1  Fanny Gunslinger Perdagangan Saham adalah Merr...\n2      1  Rumah -rumah baru yang luar biasa menjadi muda...\n3      1  4 Permintaan Khusus Pencetakan Warna Informasi...\n4      1  Jangan punya uang, dapatkan CD perangkat lunak...",
            "text/html": "<div>\n<style scoped>\n    .dataframe tbody tr th:only-of-type {\n        vertical-align: middle;\n    }\n\n    .dataframe tbody tr th {\n        vertical-align: top;\n    }\n\n    .dataframe thead th {\n        text-align: right;\n    }\n</style>\n<table border=\"1\" class=\"dataframe\">\n  <thead>\n    <tr style=\"text-align: right;\">\n      <th></th>\n      <th>label</th>\n      <th>Pesan</th>\n    </tr>\n  </thead>\n  <tbody>\n    <tr>\n      <th>0</th>\n      <td>1</td>\n      <td>Secara alami tak tertahankan identitas perusah...</td>\n    </tr>\n    <tr>\n      <th>1</th>\n      <td>1</td>\n      <td>Fanny Gunslinger Perdagangan Saham adalah Merr...</td>\n    </tr>\n    <tr>\n      <th>2</th>\n      <td>1</td>\n      <td>Rumah -rumah baru yang luar biasa menjadi muda...</td>\n    </tr>\n    <tr>\n      <th>3</th>\n      <td>1</td>\n      <td>4 Permintaan Khusus Pencetakan Warna Informasi...</td>\n    </tr>\n    <tr>\n      <th>4</th>\n      <td>1</td>\n      <td>Jangan punya uang, dapatkan CD perangkat lunak...</td>\n    </tr>\n  </tbody>\n</table>\n</div>"
          },
          "metadata": {}
        }
      ]
    },
    {
      "cell_type": "code",
      "source": [
        "# Melakukan instalasi pustaka imbalanced-learn\n",
        "pip install imbalanced-learn"
      ],
      "metadata": {
        "execution": {
          "iopub.status.busy": "2024-10-09T02:40:35.681236Z",
          "iopub.execute_input": "2024-10-09T02:40:35.681639Z",
          "iopub.status.idle": "2024-10-09T02:40:47.445745Z",
          "shell.execute_reply.started": "2024-10-09T02:40:35.681600Z",
          "shell.execute_reply": "2024-10-09T02:40:47.444436Z"
        },
        "trusted": true,
        "id": "YQagiaIvainm",
        "outputId": "5492bd7d-b837-4b2d-bb8d-d04a213054ec"
      },
      "execution_count": null,
      "outputs": [
        {
          "name": "stdout",
          "text": "Requirement already satisfied: imbalanced-learn in /opt/conda/lib/python3.10/site-packages (0.12.3)\nRequirement already satisfied: numpy>=1.17.3 in /opt/conda/lib/python3.10/site-packages (from imbalanced-learn) (1.26.4)\nRequirement already satisfied: scipy>=1.5.0 in /opt/conda/lib/python3.10/site-packages (from imbalanced-learn) (1.14.1)\nRequirement already satisfied: scikit-learn>=1.0.2 in /opt/conda/lib/python3.10/site-packages (from imbalanced-learn) (1.2.2)\nRequirement already satisfied: joblib>=1.1.1 in /opt/conda/lib/python3.10/site-packages (from imbalanced-learn) (1.4.2)\nRequirement already satisfied: threadpoolctl>=2.0.0 in /opt/conda/lib/python3.10/site-packages (from imbalanced-learn) (3.5.0)\nNote: you may need to restart the kernel to use updated packages.\n",
          "output_type": "stream"
        }
      ]
    },
    {
      "cell_type": "code",
      "source": [
        "# Melakukan balancing value dalam kategori ham dan spam dengan oversampling\n",
        "# Random Oversampling menangani masalah class imbalance dalam dataset, terutama ketika jumlah sampel dari satu kelas jauh lebih sedikit dibandingkan kelas lainnya.\n",
        "\n",
        "from imblearn.over_sampling import RandomOverSampler\n",
        "\n",
        "ros = RandomOverSampler(random_state=42)\n",
        "df_resampled, label_resampled = ros.fit_resample(df_label[['Pesan']], df_label['label'])\n",
        "\n",
        "# Menyimpan hasil resampling ke dalam dataframe\n",
        "df_resampled['label'] = label_resampled\n",
        "print(df_resampled)"
      ],
      "metadata": {
        "execution": {
          "iopub.status.busy": "2024-10-09T02:40:47.447530Z",
          "iopub.execute_input": "2024-10-09T02:40:47.447928Z",
          "iopub.status.idle": "2024-10-09T02:40:48.076799Z",
          "shell.execute_reply.started": "2024-10-09T02:40:47.447890Z",
          "shell.execute_reply": "2024-10-09T02:40:48.075497Z"
        },
        "trusted": true,
        "id": "MXNcZYocainm",
        "outputId": "3b558d51-8533-4fef-b65a-25d86004f526"
      },
      "execution_count": null,
      "outputs": [
        {
          "name": "stdout",
          "text": "                                                  Pesan  label\n0     Secara alami tak tertahankan identitas perusah...      1\n1     Fanny Gunslinger Perdagangan Saham adalah Merr...      1\n2     Rumah -rumah baru yang luar biasa menjadi muda...      1\n3     4 Permintaan Khusus Pencetakan Warna Informasi...      1\n4     Jangan punya uang, dapatkan CD perangkat lunak...      1\n...                                                 ...    ...\n2731  Sebuah makalah saya Vince, saya telah menulis ...      0\n2732  Pengumuman Organisasi Kami dengan senang hati ...      0\n2733  Posisi ahli statistik terbuka, jangan ragu unt...      0\n2734  Tuan -tuan, berbicara kepada Vince K hari ini ...      0\n2735  Buku Derivatif Energi Hi Vince, senang berbica...      0\n\n[2736 rows x 2 columns]\n",
          "output_type": "stream"
        }
      ]
    },
    {
      "cell_type": "code",
      "source": [
        "# Tampilkan data yang sudah di oversampling\n",
        "print(df_resampled.label.value_counts())\n",
        "print(df_resampled.shape)"
      ],
      "metadata": {
        "execution": {
          "iopub.status.busy": "2024-10-09T02:40:48.078453Z",
          "iopub.execute_input": "2024-10-09T02:40:48.079178Z",
          "iopub.status.idle": "2024-10-09T02:40:48.085659Z",
          "shell.execute_reply.started": "2024-10-09T02:40:48.079132Z",
          "shell.execute_reply": "2024-10-09T02:40:48.084646Z"
        },
        "trusted": true,
        "id": "W_8ncYDKainn",
        "outputId": "2baea6c0-8c39-454d-b89a-bf8cd4652572"
      },
      "execution_count": null,
      "outputs": [
        {
          "name": "stdout",
          "text": "label\n1    1368\n0    1368\nName: count, dtype: int64\n(2736, 2)\n",
          "output_type": "stream"
        }
      ]
    },
    {
      "cell_type": "markdown",
      "source": [
        "# **4. Splitting Data**\n",
        "\n",
        "Membagi data untuk training testing dan validation, dimana test_size = 0.3"
      ],
      "metadata": {
        "id": "5puFHC8JeqnK"
      }
    },
    {
      "cell_type": "code",
      "source": [
        "# Membagi dataset df_resampled menjadi dua bagian, yaitu 70% data pelatihan/validasi (train_val) dan 30% data pengujian (test)\n",
        "# secara acak dengan memastikan hasil acak yang konsisten menggunakan random_state=42.\n",
        "train_val, test = train_test_split(df_resampled, test_size=0.3, random_state=42,shuffle=True)"
      ],
      "metadata": {
        "execution": {
          "iopub.status.busy": "2024-10-09T02:40:48.087184Z",
          "iopub.execute_input": "2024-10-09T02:40:48.087541Z",
          "iopub.status.idle": "2024-10-09T02:40:48.100536Z",
          "shell.execute_reply.started": "2024-10-09T02:40:48.087502Z",
          "shell.execute_reply": "2024-10-09T02:40:48.099464Z"
        },
        "trusted": true,
        "id": "4WzJRwOJainn"
      },
      "execution_count": null,
      "outputs": []
    },
    {
      "cell_type": "code",
      "source": [
        "# Membagi data train_val yang sebelumnya sudah dipisahkan, menjadi dua bagian: 70% untuk pelatihan (train) dan 30% untuk validasi (val)\n",
        "train,val=train_test_split(train_val, test_size=0.3, random_state=42,shuffle=True)"
      ],
      "metadata": {
        "execution": {
          "iopub.status.busy": "2024-10-09T02:40:48.101774Z",
          "iopub.execute_input": "2024-10-09T02:40:48.102127Z",
          "iopub.status.idle": "2024-10-09T02:40:48.113424Z",
          "shell.execute_reply.started": "2024-10-09T02:40:48.102093Z",
          "shell.execute_reply": "2024-10-09T02:40:48.112696Z"
        },
        "trusted": true,
        "id": "_bsY1CZ3ainn"
      },
      "execution_count": null,
      "outputs": []
    },
    {
      "cell_type": "code",
      "source": [
        "# print shape masing-masing data yang sudah di splitting\n",
        "train.shape, val.shape, test.shape"
      ],
      "metadata": {
        "execution": {
          "iopub.status.busy": "2024-10-09T02:40:48.114598Z",
          "iopub.execute_input": "2024-10-09T02:40:48.114967Z",
          "iopub.status.idle": "2024-10-09T02:40:48.125398Z",
          "shell.execute_reply.started": "2024-10-09T02:40:48.114933Z",
          "shell.execute_reply": "2024-10-09T02:40:48.124475Z"
        },
        "trusted": true,
        "id": "4KrF3Yfaainn",
        "outputId": "f699aa10-8c39-4888-8907-f8ac398be99a"
      },
      "execution_count": null,
      "outputs": [
        {
          "execution_count": 22,
          "output_type": "execute_result",
          "data": {
            "text/plain": "((1340, 2), (575, 2), (821, 2))"
          },
          "metadata": {}
        }
      ]
    },
    {
      "cell_type": "markdown",
      "source": [
        "# **5. Pre-trained Model**\n",
        "\n",
        "Menggunakan pre-trained model dari protectai yaitu deberta-v3-base-prompt-injection-v2\n",
        "- DeBERTa V3 adalah pengembangan dari model DeBERTa, yang merupakan varian dari arsitektur transformer seperti BERT dengan perbaikan dalam perhatian (attention) yang lebih efektif memahami hubungan semantik dalam teks.\n",
        "- Model ini dioptimalkan untuk mendeteksi Prompt Injection, yaitu serangan atau manipulasi input pada sistem AI.\n",
        "- Dikembangkan oleh ProtectAI, model ini bertujuan untuk menjaga keamanan aplikasi berbasis AI dari serangan prompt injection.\n",
        "- Sudah dilatih sebelumnya pada dataset yang berkaitan dengan prompt injection sehingga siap digunakan atau disesuaikan (fine-tuning)."
      ],
      "metadata": {
        "id": "Evu9IXGbfynI"
      }
    },
    {
      "cell_type": "code",
      "source": [
        "pretrained_model='protectai/deberta-v3-base-prompt-injection-v2'"
      ],
      "metadata": {
        "execution": {
          "iopub.status.busy": "2024-10-09T02:40:48.126619Z",
          "iopub.execute_input": "2024-10-09T02:40:48.126970Z",
          "iopub.status.idle": "2024-10-09T02:40:48.134323Z",
          "shell.execute_reply.started": "2024-10-09T02:40:48.126938Z",
          "shell.execute_reply": "2024-10-09T02:40:48.133562Z"
        },
        "trusted": true,
        "id": "4ByNeD-0aino"
      },
      "execution_count": null,
      "outputs": []
    },
    {
      "cell_type": "code",
      "source": [
        "# Tokenizer ini sedang dimuat untuk model pre-trained\n",
        "# dan proses tersebut memerlukan pengunduhan beberapa file penting yang mengatur bagaimana teks akan diproses menjadi token.\n",
        "# Tokenizer adalah bagian penting dalam sistem pemrosesan bahasa alami (NLP) untuk mengonversi teks menjadi format numerik yang bisa dipahami oleh model AI.\n",
        "tokenizer=AutoTokenizer.from_pretrained(pretrained_model)"
      ],
      "metadata": {
        "execution": {
          "iopub.status.busy": "2024-10-09T02:40:48.135339Z",
          "iopub.execute_input": "2024-10-09T02:40:48.136089Z",
          "iopub.status.idle": "2024-10-09T02:40:56.050447Z",
          "shell.execute_reply.started": "2024-10-09T02:40:48.136054Z",
          "shell.execute_reply": "2024-10-09T02:40:56.049464Z"
        },
        "trusted": true,
        "colab": {
          "referenced_widgets": [
            "69a13a254eec4efea7db1b3e31df63c5",
            "56d2ee401cde4b9ebd8ecc2331e61bd7",
            "a27b997645414dbaa21e6b29b3b179c0",
            "e78c15bda789485cae86689ac673ac71",
            "ac1a514570a14977b5913e8ff92b7451"
          ]
        },
        "id": "fNv62R44aino",
        "outputId": "008b6f37-0f30-41b0-ee54-bd7ec4e016ed"
      },
      "execution_count": null,
      "outputs": [
        {
          "output_type": "display_data",
          "data": {
            "text/plain": "tokenizer_config.json:   0%|          | 0.00/1.28k [00:00<?, ?B/s]",
            "application/vnd.jupyter.widget-view+json": {
              "version_major": 2,
              "version_minor": 0,
              "model_id": "69a13a254eec4efea7db1b3e31df63c5"
            }
          },
          "metadata": {}
        },
        {
          "output_type": "display_data",
          "data": {
            "text/plain": "spm.model:   0%|          | 0.00/2.46M [00:00<?, ?B/s]",
            "application/vnd.jupyter.widget-view+json": {
              "version_major": 2,
              "version_minor": 0,
              "model_id": "56d2ee401cde4b9ebd8ecc2331e61bd7"
            }
          },
          "metadata": {}
        },
        {
          "output_type": "display_data",
          "data": {
            "text/plain": "tokenizer.json:   0%|          | 0.00/8.66M [00:00<?, ?B/s]",
            "application/vnd.jupyter.widget-view+json": {
              "version_major": 2,
              "version_minor": 0,
              "model_id": "a27b997645414dbaa21e6b29b3b179c0"
            }
          },
          "metadata": {}
        },
        {
          "output_type": "display_data",
          "data": {
            "text/plain": "added_tokens.json:   0%|          | 0.00/23.0 [00:00<?, ?B/s]",
            "application/vnd.jupyter.widget-view+json": {
              "version_major": 2,
              "version_minor": 0,
              "model_id": "e78c15bda789485cae86689ac673ac71"
            }
          },
          "metadata": {}
        },
        {
          "output_type": "display_data",
          "data": {
            "text/plain": "special_tokens_map.json:   0%|          | 0.00/286 [00:00<?, ?B/s]",
            "application/vnd.jupyter.widget-view+json": {
              "version_major": 2,
              "version_minor": 0,
              "model_id": "ac1a514570a14977b5913e8ff92b7451"
            }
          },
          "metadata": {}
        }
      ]
    },
    {
      "cell_type": "code",
      "source": [
        "# Kode ini melakukan tokenisasi pada teks dalam kolom 'Pesan' dari df_resampled menggunakan tokenizer yang telah dimuat.\n",
        "token_lengths = [len(tokenizer(text)['input_ids']) for text in df_resampled['Pesan']]\n",
        "\n",
        "# token length = daftar yang menyimpan panjang token (jumlah token) untuk setiap pesan dalam dataset setelah tokenisasi.\n",
        "max_length = max(token_lengths)\n",
        "mean_length = sum(token_lengths) / len(token_lengths)\n",
        "median_length = sorted(token_lengths)[len(token_lengths) // 2]\n",
        "\n",
        "# Mengeksplorasi distribusi panjang token dalam dataset, memberikan informasi seperti panjang terpanjang, rata-rata, dan median\n",
        "# yang penting dalam menentukan konfigurasi seperti max_length untuk model machine learning.\n",
        "print(f\"Max token length: {max_length}\")\n",
        "print(f\"Mean token length: {mean_length}\")\n",
        "print(f\"Median token length: {median_length}\")"
      ],
      "metadata": {
        "execution": {
          "iopub.status.busy": "2024-10-09T03:18:17.072277Z",
          "iopub.execute_input": "2024-10-09T03:18:17.073095Z",
          "iopub.status.idle": "2024-10-09T03:18:19.827246Z",
          "shell.execute_reply.started": "2024-10-09T03:18:17.073052Z",
          "shell.execute_reply": "2024-10-09T03:18:19.826350Z"
        },
        "trusted": true,
        "id": "4_gj3hpwainp",
        "outputId": "6c97574d-2e46-4d9c-a747-87a47ba96b4e"
      },
      "execution_count": null,
      "outputs": [
        {
          "name": "stdout",
          "text": "Max token length: 10049\nMean token length: 457.6198830409357\nMedian token length: 271\n",
          "output_type": "stream"
        }
      ]
    },
    {
      "cell_type": "code",
      "source": [
        "# Maka max length yang paling pas adalah 512\n",
        "max_length=512"
      ],
      "metadata": {
        "execution": {
          "iopub.status.busy": "2024-10-09T03:18:27.352218Z",
          "iopub.execute_input": "2024-10-09T03:18:27.352619Z",
          "iopub.status.idle": "2024-10-09T03:18:27.357217Z",
          "shell.execute_reply.started": "2024-10-09T03:18:27.352581Z",
          "shell.execute_reply": "2024-10-09T03:18:27.356387Z"
        },
        "trusted": true,
        "id": "JpzGMu_qainp"
      },
      "execution_count": null,
      "outputs": []
    },
    {
      "cell_type": "code",
      "source": [
        "# tokenize_function mempersiapkan teks dengan melakukan tokenisasi, truncation, dan padding sesuai panjang maksimum yang diizinkan.\n",
        "def tokenize_function(examples):\n",
        "    return tokenizer(examples['Pesan'], truncation=True,padding='max_length',max_length=max_length)\n",
        "\n",
        "# convert_to_dataset mengonversi DataFrame pandas menjadi format Dataset Hugging Face dan menerapkan tokenisasi ke seluruh dataset,\n",
        "# serta membersihkan kolom teks asli setelah tokenisasi dilakukan.\n",
        "def convert_to_dataset(dataframe):\n",
        "    dataset = Dataset.from_pandas(dataframe, preserve_index=False)\n",
        "    dataset = dataset.map(tokenize_function, batched=True)\n",
        "    dataset=dataset.remove_columns(['Pesan'])\n",
        "    return dataset"
      ],
      "metadata": {
        "execution": {
          "iopub.status.busy": "2024-10-09T03:18:29.137428Z",
          "iopub.execute_input": "2024-10-09T03:18:29.138318Z",
          "iopub.status.idle": "2024-10-09T03:18:29.144434Z",
          "shell.execute_reply.started": "2024-10-09T03:18:29.138274Z",
          "shell.execute_reply": "2024-10-09T03:18:29.143544Z"
        },
        "trusted": true,
        "id": "IXxSUSuCainp"
      },
      "execution_count": null,
      "outputs": []
    },
    {
      "cell_type": "code",
      "source": [
        "# Kode ini mempersiapkan dataset pelatihan dan validasi dalam format yang telah ditokenisasi\n",
        "# dan siap diproses oleh model Transformer untuk proses pelatihan (training) dan validasi (evaluation).\n",
        "tokenized_train = convert_to_dataset(train)\n",
        "tokenized_val = convert_to_dataset(val)"
      ],
      "metadata": {
        "execution": {
          "iopub.status.busy": "2024-10-09T03:18:30.794938Z",
          "iopub.execute_input": "2024-10-09T03:18:30.795627Z",
          "iopub.status.idle": "2024-10-09T03:18:32.278695Z",
          "shell.execute_reply.started": "2024-10-09T03:18:30.795585Z",
          "shell.execute_reply": "2024-10-09T03:18:32.277744Z"
        },
        "trusted": true,
        "colab": {
          "referenced_widgets": [
            "f2b7067aa4864254b72091732c43ddac",
            "2478cebb514d4418bc14561c98b4f3c0"
          ]
        },
        "id": "5OofZ2qQainp",
        "outputId": "2e04e4f2-b8ba-4071-fa7b-293c895854d7"
      },
      "execution_count": null,
      "outputs": [
        {
          "output_type": "display_data",
          "data": {
            "text/plain": "Map:   0%|          | 0/1340 [00:00<?, ? examples/s]",
            "application/vnd.jupyter.widget-view+json": {
              "version_major": 2,
              "version_minor": 0,
              "model_id": "f2b7067aa4864254b72091732c43ddac"
            }
          },
          "metadata": {}
        },
        {
          "output_type": "display_data",
          "data": {
            "text/plain": "Map:   0%|          | 0/575 [00:00<?, ? examples/s]",
            "application/vnd.jupyter.widget-view+json": {
              "version_major": 2,
              "version_minor": 0,
              "model_id": "2478cebb514d4418bc14561c98b4f3c0"
            }
          },
          "metadata": {}
        }
      ]
    },
    {
      "cell_type": "code",
      "source": [
        "# Data collator memastikan input dalam batch diproses dengan panjang yang sama, penting untuk efisiensi pelatihan.\n",
        "data_collator = DataCollatorWithPadding(tokenizer=tokenizer)\n",
        "\n",
        "# Model diload dari model pre-trained untuk tugas klasifikasi, dan disesuaikan untuk klasifikasi dua kelas.\n",
        "model = AutoModelForSequenceClassification.from_pretrained(pretrained_model, num_labels=2)"
      ],
      "metadata": {
        "execution": {
          "iopub.status.busy": "2024-10-09T03:18:33.337186Z",
          "iopub.execute_input": "2024-10-09T03:18:33.337587Z",
          "iopub.status.idle": "2024-10-09T03:18:33.648750Z",
          "shell.execute_reply.started": "2024-10-09T03:18:33.337548Z",
          "shell.execute_reply": "2024-10-09T03:18:33.648013Z"
        },
        "trusted": true,
        "id": "5_SBUjhuainq"
      },
      "execution_count": null,
      "outputs": []
    },
    {
      "cell_type": "code",
      "source": [
        "# MultiGPU training\n",
        "accelerator = Accelerator()"
      ],
      "metadata": {
        "execution": {
          "iopub.status.busy": "2024-10-09T03:18:35.222872Z",
          "iopub.execute_input": "2024-10-09T03:18:35.223249Z",
          "iopub.status.idle": "2024-10-09T03:18:35.230646Z",
          "shell.execute_reply.started": "2024-10-09T03:18:35.223212Z",
          "shell.execute_reply": "2024-10-09T03:18:35.229573Z"
        },
        "trusted": true,
        "id": "csAPaB_Lainq"
      },
      "execution_count": null,
      "outputs": []
    },
    {
      "cell_type": "code",
      "source": [
        "# Digunakan untuk mengatur berbagai parameter yang terkait dengan pelatihan model\n",
        "training_args = TrainingArguments(\n",
        "    output_dir=\"./results\", # Direktori tempat menyimpan hasil pelatihan\n",
        "    save_strategy='epoch', # Model akan disimpan setelah setiap epoch selesai\n",
        "    optim=\"adamw_torch\", # Optimizer yang digunakan adalah AdamW\n",
        "    learning_rate=2e-5, # Laju pembelajaran (learning rate) yang sangat kecil supaya memastikan pembelajaran model dilakukan bertahap\n",
        "    per_device_train_batch_size=8, # Jumlah sampel per batch selama pelatihan adalah 8\n",
        "    per_device_eval_batch_size=8, # Jumlah sampel per batch selama evaluasi adalah 8\n",
        "    num_train_epochs=3, # Model akan dilatih selama 3 epoch\n",
        "    weight_decay=0.01, # Teknik regularisasi yang digunakan untuk mengurangi overfitting\n",
        "    report_to=\"none\", # Tidak ada logging eksternal yang digunakan\n",
        "    eval_steps=5, # Evaluasi dan logging akan dilakukan setiap 5 langkah selama pelatihan\n",
        "    logging_steps=5,\n",
        ")\n",
        "\n",
        "# Membuat Trainer untuk menangani pelatihan model\n",
        "trainer = Trainer(\n",
        "    model=model, # Model yang dilatih adalah model klasifikasi sekuens yang telah diload sebelumnya\n",
        "    args=training_args, # Menggunakan parameter pelatihan yang telah diatur di TrainingArguments\n",
        "    train_dataset=tokenized_train, # Dataset pelatihan yang sudah ditokenisasi\n",
        "    eval_dataset=tokenized_val, # Dataset validasi yang sudah ditokenisasi\n",
        "    tokenizer=tokenizer, # Tokenizer yang digunakan untuk pelatihan\n",
        "    data_collator=data_collator, # Data collator yang mengatur padding pada setiap batch\n",
        ")\n",
        "\n",
        "# Accelerator digunakan untuk mengelola pelatihan yang lebih efisien, seperti menjalankan pada GPU atau multi-device secara otomatis.\n",
        "model, trainer = accelerator.prepare(model, trainer)\n",
        "\n",
        "# Menjalankan proses pelatihan model berdasarkan semua pengaturan yang telah disediakan\n",
        "trainer.train()"
      ],
      "metadata": {
        "execution": {
          "iopub.status.busy": "2024-10-09T03:18:41.937581Z",
          "iopub.execute_input": "2024-10-09T03:18:41.938409Z",
          "iopub.status.idle": "2024-10-09T03:24:49.765696Z",
          "shell.execute_reply.started": "2024-10-09T03:18:41.938366Z",
          "shell.execute_reply": "2024-10-09T03:24:49.764614Z"
        },
        "trusted": true,
        "id": "SsB-NvUCainr",
        "outputId": "9308b225-a8dd-496b-84d0-8715be5e9694"
      },
      "execution_count": null,
      "outputs": [
        {
          "output_type": "display_data",
          "data": {
            "text/plain": "<IPython.core.display.HTML object>",
            "text/html": "\n    <div>\n      \n      <progress value='504' max='504' style='width:300px; height:20px; vertical-align: middle;'></progress>\n      [504/504 06:06, Epoch 3/3]\n    </div>\n    <table border=\"1\" class=\"dataframe\">\n  <thead>\n <tr style=\"text-align: left;\">\n      <th>Step</th>\n      <th>Training Loss</th>\n    </tr>\n  </thead>\n  <tbody>\n    <tr>\n      <td>5</td>\n      <td>1.643500</td>\n    </tr>\n    <tr>\n      <td>10</td>\n      <td>0.597200</td>\n    </tr>\n    <tr>\n      <td>15</td>\n      <td>0.208900</td>\n    </tr>\n    <tr>\n      <td>20</td>\n      <td>0.261300</td>\n    </tr>\n    <tr>\n      <td>25</td>\n      <td>0.310800</td>\n    </tr>\n    <tr>\n      <td>30</td>\n      <td>0.524600</td>\n    </tr>\n    <tr>\n      <td>35</td>\n      <td>0.347400</td>\n    </tr>\n    <tr>\n      <td>40</td>\n      <td>0.167100</td>\n    </tr>\n    <tr>\n      <td>45</td>\n      <td>0.172300</td>\n    </tr>\n    <tr>\n      <td>50</td>\n      <td>0.226500</td>\n    </tr>\n    <tr>\n      <td>55</td>\n      <td>0.287500</td>\n    </tr>\n    <tr>\n      <td>60</td>\n      <td>0.163700</td>\n    </tr>\n    <tr>\n      <td>65</td>\n      <td>0.244300</td>\n    </tr>\n    <tr>\n      <td>70</td>\n      <td>0.047300</td>\n    </tr>\n    <tr>\n      <td>75</td>\n      <td>0.184300</td>\n    </tr>\n    <tr>\n      <td>80</td>\n      <td>0.349200</td>\n    </tr>\n    <tr>\n      <td>85</td>\n      <td>0.017800</td>\n    </tr>\n    <tr>\n      <td>90</td>\n      <td>0.122800</td>\n    </tr>\n    <tr>\n      <td>95</td>\n      <td>0.209600</td>\n    </tr>\n    <tr>\n      <td>100</td>\n      <td>0.083300</td>\n    </tr>\n    <tr>\n      <td>105</td>\n      <td>0.483500</td>\n    </tr>\n    <tr>\n      <td>110</td>\n      <td>0.222500</td>\n    </tr>\n    <tr>\n      <td>115</td>\n      <td>0.131000</td>\n    </tr>\n    <tr>\n      <td>120</td>\n      <td>0.456500</td>\n    </tr>\n    <tr>\n      <td>125</td>\n      <td>0.718600</td>\n    </tr>\n    <tr>\n      <td>130</td>\n      <td>0.028800</td>\n    </tr>\n    <tr>\n      <td>135</td>\n      <td>0.091900</td>\n    </tr>\n    <tr>\n      <td>140</td>\n      <td>0.105700</td>\n    </tr>\n    <tr>\n      <td>145</td>\n      <td>0.085700</td>\n    </tr>\n    <tr>\n      <td>150</td>\n      <td>0.008700</td>\n    </tr>\n    <tr>\n      <td>155</td>\n      <td>0.018600</td>\n    </tr>\n    <tr>\n      <td>160</td>\n      <td>0.684900</td>\n    </tr>\n    <tr>\n      <td>165</td>\n      <td>0.638400</td>\n    </tr>\n    <tr>\n      <td>170</td>\n      <td>0.018000</td>\n    </tr>\n    <tr>\n      <td>175</td>\n      <td>0.001900</td>\n    </tr>\n    <tr>\n      <td>180</td>\n      <td>0.185700</td>\n    </tr>\n    <tr>\n      <td>185</td>\n      <td>0.002000</td>\n    </tr>\n    <tr>\n      <td>190</td>\n      <td>0.146400</td>\n    </tr>\n    <tr>\n      <td>195</td>\n      <td>0.286600</td>\n    </tr>\n    <tr>\n      <td>200</td>\n      <td>0.074800</td>\n    </tr>\n    <tr>\n      <td>205</td>\n      <td>0.003800</td>\n    </tr>\n    <tr>\n      <td>210</td>\n      <td>0.100800</td>\n    </tr>\n    <tr>\n      <td>215</td>\n      <td>0.003600</td>\n    </tr>\n    <tr>\n      <td>220</td>\n      <td>0.133200</td>\n    </tr>\n    <tr>\n      <td>225</td>\n      <td>0.010800</td>\n    </tr>\n    <tr>\n      <td>230</td>\n      <td>0.001600</td>\n    </tr>\n    <tr>\n      <td>235</td>\n      <td>0.001600</td>\n    </tr>\n    <tr>\n      <td>240</td>\n      <td>0.002100</td>\n    </tr>\n    <tr>\n      <td>245</td>\n      <td>0.084200</td>\n    </tr>\n    <tr>\n      <td>250</td>\n      <td>0.001100</td>\n    </tr>\n    <tr>\n      <td>255</td>\n      <td>0.000900</td>\n    </tr>\n    <tr>\n      <td>260</td>\n      <td>0.001300</td>\n    </tr>\n    <tr>\n      <td>265</td>\n      <td>0.000700</td>\n    </tr>\n    <tr>\n      <td>270</td>\n      <td>0.000700</td>\n    </tr>\n    <tr>\n      <td>275</td>\n      <td>0.000700</td>\n    </tr>\n    <tr>\n      <td>280</td>\n      <td>0.000800</td>\n    </tr>\n    <tr>\n      <td>285</td>\n      <td>0.000500</td>\n    </tr>\n    <tr>\n      <td>290</td>\n      <td>0.003200</td>\n    </tr>\n    <tr>\n      <td>295</td>\n      <td>0.068300</td>\n    </tr>\n    <tr>\n      <td>300</td>\n      <td>0.170500</td>\n    </tr>\n    <tr>\n      <td>305</td>\n      <td>0.155800</td>\n    </tr>\n    <tr>\n      <td>310</td>\n      <td>0.000600</td>\n    </tr>\n    <tr>\n      <td>315</td>\n      <td>0.195300</td>\n    </tr>\n    <tr>\n      <td>320</td>\n      <td>0.427400</td>\n    </tr>\n    <tr>\n      <td>325</td>\n      <td>0.209900</td>\n    </tr>\n    <tr>\n      <td>330</td>\n      <td>0.011400</td>\n    </tr>\n    <tr>\n      <td>335</td>\n      <td>0.000700</td>\n    </tr>\n    <tr>\n      <td>340</td>\n      <td>0.002800</td>\n    </tr>\n    <tr>\n      <td>345</td>\n      <td>0.000500</td>\n    </tr>\n    <tr>\n      <td>350</td>\n      <td>0.164400</td>\n    </tr>\n    <tr>\n      <td>355</td>\n      <td>0.000600</td>\n    </tr>\n    <tr>\n      <td>360</td>\n      <td>0.001000</td>\n    </tr>\n    <tr>\n      <td>365</td>\n      <td>0.005100</td>\n    </tr>\n    <tr>\n      <td>370</td>\n      <td>0.000600</td>\n    </tr>\n    <tr>\n      <td>375</td>\n      <td>0.000500</td>\n    </tr>\n    <tr>\n      <td>380</td>\n      <td>0.000500</td>\n    </tr>\n    <tr>\n      <td>385</td>\n      <td>0.065700</td>\n    </tr>\n    <tr>\n      <td>390</td>\n      <td>0.003500</td>\n    </tr>\n    <tr>\n      <td>395</td>\n      <td>0.000600</td>\n    </tr>\n    <tr>\n      <td>400</td>\n      <td>0.003600</td>\n    </tr>\n    <tr>\n      <td>405</td>\n      <td>0.003200</td>\n    </tr>\n    <tr>\n      <td>410</td>\n      <td>0.000400</td>\n    </tr>\n    <tr>\n      <td>415</td>\n      <td>0.009900</td>\n    </tr>\n    <tr>\n      <td>420</td>\n      <td>0.004700</td>\n    </tr>\n    <tr>\n      <td>425</td>\n      <td>0.000400</td>\n    </tr>\n    <tr>\n      <td>430</td>\n      <td>0.000200</td>\n    </tr>\n    <tr>\n      <td>435</td>\n      <td>0.000300</td>\n    </tr>\n    <tr>\n      <td>440</td>\n      <td>0.000400</td>\n    </tr>\n    <tr>\n      <td>445</td>\n      <td>0.000400</td>\n    </tr>\n    <tr>\n      <td>450</td>\n      <td>0.000500</td>\n    </tr>\n    <tr>\n      <td>455</td>\n      <td>0.000200</td>\n    </tr>\n    <tr>\n      <td>460</td>\n      <td>0.000300</td>\n    </tr>\n    <tr>\n      <td>465</td>\n      <td>0.000300</td>\n    </tr>\n    <tr>\n      <td>470</td>\n      <td>0.000400</td>\n    </tr>\n    <tr>\n      <td>475</td>\n      <td>0.000200</td>\n    </tr>\n    <tr>\n      <td>480</td>\n      <td>0.000200</td>\n    </tr>\n    <tr>\n      <td>485</td>\n      <td>0.166000</td>\n    </tr>\n    <tr>\n      <td>490</td>\n      <td>0.000300</td>\n    </tr>\n    <tr>\n      <td>495</td>\n      <td>0.001100</td>\n    </tr>\n    <tr>\n      <td>500</td>\n      <td>0.000300</td>\n    </tr>\n  </tbody>\n</table><p>"
          },
          "metadata": {}
        },
        {
          "execution_count": 72,
          "output_type": "execute_result",
          "data": {
            "text/plain": "TrainOutput(global_step=504, training_loss=0.12490301676884955, metrics={'train_runtime': 366.9272, 'train_samples_per_second': 10.956, 'train_steps_per_second': 1.374, 'total_flos': 1057725411287040.0, 'train_loss': 0.12490301676884955, 'epoch': 3.0})"
          },
          "metadata": {}
        }
      ]
    },
    {
      "cell_type": "code",
      "source": [
        "# Menonaktifkan Weights and Biases (WandB)\n",
        "\n",
        "os.environ['WANDB_DISABLED'] = 'true'"
      ],
      "metadata": {
        "execution": {
          "iopub.status.busy": "2024-10-09T03:24:49.767885Z",
          "iopub.execute_input": "2024-10-09T03:24:49.768322Z",
          "iopub.status.idle": "2024-10-09T03:24:49.773047Z",
          "shell.execute_reply.started": "2024-10-09T03:24:49.768276Z",
          "shell.execute_reply": "2024-10-09T03:24:49.771999Z"
        },
        "trusted": true,
        "id": "liI3koa3ains"
      },
      "execution_count": null,
      "outputs": []
    },
    {
      "cell_type": "markdown",
      "source": [
        "# **6. Evaluasi Model**"
      ],
      "metadata": {
        "id": "EZWQwWJtjXy0"
      }
    },
    {
      "cell_type": "code",
      "source": [
        "# Dataset uji (test) diubah menjadi format Dataset dan ditokenisasi menggunakan fungsi convert_to_dataset\n",
        "tokenized_test = convert_to_dataset(test)\n",
        "tokenized_test = tokenized_test.remove_columns(['label'])\n",
        "\n",
        "# Membuat objek Trainer yang digunakan untuk membuat prediksi\n",
        "trainer = Trainer(model=model, tokenizer=tokenizer, data_collator=data_collator)\n",
        "# Menggunakan Trainer untuk memprediksi label dari dataset uji yang telah ditokenisasi\n",
        "predictions = trainer.predict(tokenized_test)\n",
        "\n",
        "# Mengambil hasil prediksi dan menggunakan argmax untuk mendapatkan label prediksi\n",
        "predicted_labels = np.argmax(predictions.predictions, axis=1)\n",
        "\n",
        "# Menghitung metrik evaluasi utama (precision, recall, dan F1 score) untuk menilai performa model terhadap dataset uji\n",
        "precision, recall, fscore, _ = score(test['label'], predicted_labels, average='binary')\n",
        "print(f'Precision: {precision:.4f}')\n",
        "print(f'Recall: {recall:.4f}')\n",
        "print(f'F1 Score: {fscore:.4f}')"
      ],
      "metadata": {
        "execution": {
          "iopub.status.busy": "2024-10-09T03:24:49.774323Z",
          "iopub.execute_input": "2024-10-09T03:24:49.774685Z",
          "iopub.status.idle": "2024-10-09T03:25:13.222051Z",
          "shell.execute_reply.started": "2024-10-09T03:24:49.774649Z",
          "shell.execute_reply": "2024-10-09T03:25:13.221129Z"
        },
        "trusted": true,
        "colab": {
          "referenced_widgets": [
            "3ff7bce456f5433aac667249c642667c"
          ]
        },
        "id": "WkP_HGkJains",
        "outputId": "0f22b30b-9fdf-4174-e1bc-2e35e2e6471c"
      },
      "execution_count": null,
      "outputs": [
        {
          "output_type": "display_data",
          "data": {
            "text/plain": "Map:   0%|          | 0/821 [00:00<?, ? examples/s]",
            "application/vnd.jupyter.widget-view+json": {
              "version_major": 2,
              "version_minor": 0,
              "model_id": "3ff7bce456f5433aac667249c642667c"
            }
          },
          "metadata": {}
        },
        {
          "name": "stderr",
          "text": "Using the `WANDB_DISABLED` environment variable is deprecated and will be removed in v5. Use the --report_to flag to control the integrations used for logging result (for instance --report_to none).\n",
          "output_type": "stream"
        },
        {
          "output_type": "display_data",
          "data": {
            "text/plain": "<IPython.core.display.HTML object>",
            "text/html": ""
          },
          "metadata": {}
        },
        {
          "name": "stdout",
          "text": "Precision: 0.9899\nRecall: 0.9424\nF1 Score: 0.9656\n",
          "output_type": "stream"
        }
      ]
    },
    {
      "cell_type": "code",
      "source": [
        "# print hasil klasifikasi report, dengan akurasi mencapai 97%\n",
        "print(classification_report(test['label'], predicted_labels, target_names=['not spam', 'spam']))"
      ],
      "metadata": {
        "execution": {
          "iopub.status.busy": "2024-10-09T03:25:13.224024Z",
          "iopub.execute_input": "2024-10-09T03:25:13.224356Z",
          "iopub.status.idle": "2024-10-09T03:25:13.238662Z",
          "shell.execute_reply.started": "2024-10-09T03:25:13.224322Z",
          "shell.execute_reply": "2024-10-09T03:25:13.237608Z"
        },
        "trusted": true,
        "id": "osDDO8weains",
        "outputId": "2e39fe53-e487-4e0c-b4f5-273397536bb6"
      },
      "execution_count": null,
      "outputs": [
        {
          "name": "stdout",
          "text": "              precision    recall  f1-score   support\n\n    not spam       0.94      0.99      0.97       404\n        spam       0.99      0.94      0.97       417\n\n    accuracy                           0.97       821\n   macro avg       0.97      0.97      0.97       821\nweighted avg       0.97      0.97      0.97       821\n\n",
          "output_type": "stream"
        }
      ]
    },
    {
      "cell_type": "markdown",
      "source": [
        "### **Hasil Classification Report**\n",
        "\n",
        "- Model bekerja sangat baik, dengan akurasi keseluruhan sebesar 97%.\n",
        "- Precision dan recall untuk spam lebih tinggi dibandingkan not spam, menunjukkan bahwa model sangat baik dalam mengenali spam dan prediksi kelas spam sangat akurat.\n",
        "- F1-score untuk kedua kelas sama-sama kuat di 97%, menunjukkan keseimbangan yang baik antara precision dan recall."
      ],
      "metadata": {
        "id": "_gAvgpaqk8ou"
      }
    },
    {
      "cell_type": "code",
      "source": [
        "# Menampilkan hasil confusion matrix\n",
        "cm = confusion_matrix(test['label'], predicted_labels)\n",
        "disp = ConfusionMatrixDisplay(confusion_matrix=cm, display_labels=['not spam', 'spam'])\n",
        "disp.plot(cmap=plt.cm.Blues)\n",
        "plt.show()"
      ],
      "metadata": {
        "execution": {
          "iopub.status.busy": "2024-10-09T03:25:13.240084Z",
          "iopub.execute_input": "2024-10-09T03:25:13.240401Z",
          "iopub.status.idle": "2024-10-09T03:25:13.439679Z",
          "shell.execute_reply.started": "2024-10-09T03:25:13.240365Z",
          "shell.execute_reply": "2024-10-09T03:25:13.438645Z"
        },
        "trusted": true,
        "id": "SK_H2LYFaint",
        "outputId": "b414d4c5-344c-4c74-d682-369e99875499"
      },
      "execution_count": null,
      "outputs": [
        {
          "output_type": "display_data",
          "data": {
            "text/plain": "<Figure size 640x480 with 2 Axes>",
            "image/png": "[encoded data removed]"
          },
          "metadata": {}
        }
      ]
    },
    {
      "cell_type": "markdown",
      "source": [
        "### **Hasil Confusion Matrix**\n",
        "\n",
        "- Model berhasil mendeteksi \"not spam\" secara akurat: 400 kasus benar, hanya 4 kasus salah.\n",
        "- Model cukup baik dalam mendeteksi \"spam\": 393 kasus benar, tetapi ada 24 kasus salah (false negatives) di mana model mengklasifikasikan spam sebagai not spam.\n",
        "- Secara umum, model bekerja sangat baik karena sebagian besar prediksi benar, tetapi masih ada beberapa kesalahan, terutama dalam false negatives, di mana beberapa spam tidak terdeteksi."
      ],
      "metadata": {
        "id": "ulRb9qiYkVTL"
      }
    },
    {
      "cell_type": "code",
      "source": [
        "# Membuat fungsi untuk melakukan prediksi output\n",
        "def predict_spam_ham(text):\n",
        "    inputs = tokenizer(text, return_tensors=\"pt\")\n",
        "    inputs=inputs.to(device)\n",
        "    outputs = model(**inputs)\n",
        "    probs = outputs[0].softmax(1)\n",
        "    return \"spam\" if torch.argmax(probs) == 1 else \"not spam\""
      ],
      "metadata": {
        "execution": {
          "iopub.status.busy": "2024-10-09T03:25:13.442086Z",
          "iopub.execute_input": "2024-10-09T03:25:13.442808Z",
          "iopub.status.idle": "2024-10-09T03:25:13.449563Z",
          "shell.execute_reply.started": "2024-10-09T03:25:13.442756Z",
          "shell.execute_reply": "2024-10-09T03:25:13.448641Z"
        },
        "trusted": true,
        "id": "eJeSlsJnainy"
      },
      "execution_count": null,
      "outputs": []
    },
    {
      "cell_type": "code",
      "source": [
        "# Hasil prediksi output\n",
        "input_text_1 ='Selamat! Anda telah terpilih untuk mendapatkan iPhone terbaru GRATIS. Klik link berikut untuk mengklaim hadiah Anda sekarang!'\n",
        "input_text_2 = 'Ingat meeting kita besok jam 10 pagi. Jangan lupa bawa catatan pertemuan sebelumnya.'\n",
        "print(f'Output dari input text-1 : {predict_spam_ham(input_text_1)}')\n",
        "print(f'Output dari input text-2 : {predict_spam_ham(input_text_2)}')"
      ],
      "metadata": {
        "execution": {
          "iopub.status.busy": "2024-10-09T03:25:13.450628Z",
          "iopub.execute_input": "2024-10-09T03:25:13.450984Z",
          "iopub.status.idle": "2024-10-09T03:25:13.522265Z",
          "shell.execute_reply.started": "2024-10-09T03:25:13.450951Z",
          "shell.execute_reply": "2024-10-09T03:25:13.521324Z"
        },
        "trusted": true,
        "id": "tyB1QdI9ainy",
        "outputId": "b38dcdd4-3b56-4a8e-a461-922592cb4c64"
      },
      "execution_count": null,
      "outputs": [
        {
          "name": "stdout",
          "text": "Output dari input text-1 : spam\nOutput dari input text-2 : not spam\n",
          "output_type": "stream"
        }
      ]
    },
    {
      "cell_type": "markdown",
      "source": [
        "### **Hasil Prediksi**\n",
        "\n",
        "Berdasarkan hasil prediksi, dapat kita simpulkan bahwa model sudah melakukan klasifikasi dengan optimal. Seluruh input sudah menghasilkan output yang sesuai:\n",
        "- Input teks 1 merupakan spam karena mengirimkan pesan dengan kata-kata promosi berlebihan dan mencurigakan, maka terdeteksi benar sebagai SPAM\n",
        "- Input teks 2 merupakan kalimat normal yang hanya menginformasikan jadwal meeting, maka terdeteksi benar sebagai NOT SPAM"
      ],
      "metadata": {
        "id": "J4okN7utjoHl"
      }
    }
  ]
}