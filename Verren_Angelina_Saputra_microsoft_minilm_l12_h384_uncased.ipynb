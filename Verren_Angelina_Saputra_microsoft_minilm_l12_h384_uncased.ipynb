{
  "metadata": {
    "kernelspec": {
      "language": "python",
      "display_name": "Python 3",
      "name": "python3"
    },
    "language_info": {
      "name": "python",
      "version": "3.10.14",
      "mimetype": "text/x-python",
      "codemirror_mode": {
        "name": "ipython",
        "version": 3
      },
      "pygments_lexer": "ipython3",
      "nbconvert_exporter": "python",
      "file_extension": ".py"
    },
    "kaggle": {
      "accelerator": "gpu",
      "dataSources": [
        {
          "sourceId": 8677743,
          "sourceType": "datasetVersion",
          "datasetId": 5201705
        }
      ],
      "dockerImageVersionId": 30787,
      "isInternetEnabled": true,
      "language": "python",
      "sourceType": "notebook",
      "isGpuEnabled": true
    },
    "colab": {
      "provenance": []
    }
  },
  "nbformat_minor": 0,
  "nbformat": 4,
  "cells": [
    {
      "cell_type": "markdown",
      "source": [
        "# **Deep Learning**\n",
        "\n",
        "### **Nama:** Verren Angelina Saputra\n",
        "### **NIM:** 2602093600\n",
        "\n",
        "- Model: https://huggingface.co/microsoft/MiniLM-L12-H384-uncased\n",
        "- Dataset: https://www.kaggle.com/datasets/raflyahmadzainur/spam-dataset-indonesia/code"
      ],
      "metadata": {
        "id": "nwcyloCLmuBK"
      }
    },
    {
      "cell_type": "markdown",
      "source": [
        "# **1. Import Library**\n",
        "\n",
        "Training model dilakukan dengan platform kaggle dengan GPU 100"
      ],
      "metadata": {
        "id": "dkGvehrSnBTl"
      }
    },
    {
      "cell_type": "code",
      "source": [
        "import numpy as np\n",
        "import pandas as pd\n",
        "\n",
        "# Memasukkan input berupa direktori dataset yang diperlukan\n",
        "import os\n",
        "for dirname, _, filenames in os.walk('/kaggle/input'):\n",
        "    for filename in filenames:\n",
        "        print(os.path.join(dirname, filename))"
      ],
      "metadata": {
        "_uuid": "8f2839f25d086af736a60e9eeb907d3b93b6e0e5",
        "_cell_guid": "b1076dfc-b9ad-4769-8c92-a6c4dae69d19",
        "execution": {
          "iopub.status.busy": "2024-10-09T09:02:12.216687Z",
          "iopub.execute_input": "2024-10-09T09:02:12.217354Z",
          "iopub.status.idle": "2024-10-09T09:02:13.247721Z",
          "shell.execute_reply.started": "2024-10-09T09:02:12.217307Z",
          "shell.execute_reply": "2024-10-09T09:02:13.246823Z"
        },
        "trusted": true,
        "id": "_tLax-s_mCte",
        "outputId": "2200eb47-a91a-4fd1-cd50-0c343cd05fbf"
      },
      "execution_count": null,
      "outputs": [
        {
          "name": "stdout",
          "text": "/kaggle/input/spam.csv\n",
          "output_type": "stream"
        }
      ]
    },
    {
      "cell_type": "code",
      "source": [
        "# Perintah yang digunakan untuk menginstal pustaka pada lingkungan Python\n",
        "# melakukan instalasi transformer, accelerate, dan datasets supaya bisa import variasi library dari pustaka ini\n",
        "\n",
        "!pip install transformers[torch]\n",
        "!pip install accelerate -U\n",
        "!pip install datasets"
      ],
      "metadata": {
        "execution": {
          "iopub.status.busy": "2024-10-09T09:02:16.151111Z",
          "iopub.execute_input": "2024-10-09T09:02:16.152084Z",
          "iopub.status.idle": "2024-10-09T09:02:52.793816Z",
          "shell.execute_reply.started": "2024-10-09T09:02:16.152041Z",
          "shell.execute_reply": "2024-10-09T09:02:52.792630Z"
        },
        "trusted": true,
        "id": "sAjHV0MCmCtj",
        "outputId": "109349ff-499c-4c33-82cf-bed5106777e2"
      },
      "execution_count": null,
      "outputs": [
        {
          "name": "stdout",
          "text": "Requirement already satisfied: transformers[torch] in /opt/conda/lib/python3.10/site-packages (4.45.1)\nRequirement already satisfied: filelock in /opt/conda/lib/python3.10/site-packages (from transformers[torch]) (3.15.1)\nRequirement already satisfied: huggingface-hub<1.0,>=0.23.2 in /opt/conda/lib/python3.10/site-packages (from transformers[torch]) (0.25.1)\nRequirement already satisfied: numpy>=1.17 in /opt/conda/lib/python3.10/site-packages (from transformers[torch]) (1.26.4)\nRequirement already satisfied: packaging>=20.0 in /opt/conda/lib/python3.10/site-packages (from transformers[torch]) (21.3)\nRequirement already satisfied: pyyaml>=5.1 in /opt/conda/lib/python3.10/site-packages (from transformers[torch]) (6.0.2)\nRequirement already satisfied: regex!=2019.12.17 in /opt/conda/lib/python3.10/site-packages (from transformers[torch]) (2024.5.15)\nRequirement already satisfied: requests in /opt/conda/lib/python3.10/site-packages (from transformers[torch]) (2.32.3)\nRequirement already satisfied: safetensors>=0.4.1 in /opt/conda/lib/python3.10/site-packages (from transformers[torch]) (0.4.5)\nRequirement already satisfied: tokenizers<0.21,>=0.20 in /opt/conda/lib/python3.10/site-packages (from transformers[torch]) (0.20.0)\nRequirement already satisfied: tqdm>=4.27 in /opt/conda/lib/python3.10/site-packages (from transformers[torch]) (4.66.4)\nRequirement already satisfied: accelerate>=0.26.0 in /opt/conda/lib/python3.10/site-packages (from transformers[torch]) (0.34.2)\nRequirement already satisfied: torch in /opt/conda/lib/python3.10/site-packages (from transformers[torch]) (2.4.0)\nRequirement already satisfied: psutil in /opt/conda/lib/python3.10/site-packages (from accelerate>=0.26.0->transformers[torch]) (5.9.3)\nRequirement already satisfied: fsspec>=2023.5.0 in /opt/conda/lib/python3.10/site-packages (from huggingface-hub<1.0,>=0.23.2->transformers[torch]) (2024.6.1)\nRequirement already satisfied: typing-extensions>=3.7.4.3 in /opt/conda/lib/python3.10/site-packages (from huggingface-hub<1.0,>=0.23.2->transformers[torch]) (4.12.2)\nRequirement already satisfied: pyparsing!=3.0.5,>=2.0.2 in /opt/conda/lib/python3.10/site-packages (from packaging>=20.0->transformers[torch]) (3.1.2)\nRequirement already satisfied: sympy in /opt/conda/lib/python3.10/site-packages (from torch->transformers[torch]) (1.13.3)\nRequirement already satisfied: networkx in /opt/conda/lib/python3.10/site-packages (from torch->transformers[torch]) (3.3)\nRequirement already satisfied: jinja2 in /opt/conda/lib/python3.10/site-packages (from torch->transformers[torch]) (3.1.4)\nRequirement already satisfied: charset-normalizer<4,>=2 in /opt/conda/lib/python3.10/site-packages (from requests->transformers[torch]) (3.3.2)\nRequirement already satisfied: idna<4,>=2.5 in /opt/conda/lib/python3.10/site-packages (from requests->transformers[torch]) (3.7)\nRequirement already satisfied: urllib3<3,>=1.21.1 in /opt/conda/lib/python3.10/site-packages (from requests->transformers[torch]) (1.26.18)\nRequirement already satisfied: certifi>=2017.4.17 in /opt/conda/lib/python3.10/site-packages (from requests->transformers[torch]) (2024.8.30)\nRequirement already satisfied: MarkupSafe>=2.0 in /opt/conda/lib/python3.10/site-packages (from jinja2->torch->transformers[torch]) (2.1.5)\nRequirement already satisfied: mpmath<1.4,>=1.1.0 in /opt/conda/lib/python3.10/site-packages (from sympy->torch->transformers[torch]) (1.3.0)\nRequirement already satisfied: accelerate in /opt/conda/lib/python3.10/site-packages (0.34.2)\nCollecting accelerate\n  Downloading accelerate-1.0.0-py3-none-any.whl.metadata (19 kB)\nRequirement already satisfied: numpy<3.0.0,>=1.17 in /opt/conda/lib/python3.10/site-packages (from accelerate) (1.26.4)\nRequirement already satisfied: packaging>=20.0 in /opt/conda/lib/python3.10/site-packages (from accelerate) (21.3)\nRequirement already satisfied: psutil in /opt/conda/lib/python3.10/site-packages (from accelerate) (5.9.3)\nRequirement already satisfied: pyyaml in /opt/conda/lib/python3.10/site-packages (from accelerate) (6.0.2)\nRequirement already satisfied: torch>=1.10.0 in /opt/conda/lib/python3.10/site-packages (from accelerate) (2.4.0)\nRequirement already satisfied: huggingface-hub>=0.21.0 in /opt/conda/lib/python3.10/site-packages (from accelerate) (0.25.1)\nRequirement already satisfied: safetensors>=0.4.3 in /opt/conda/lib/python3.10/site-packages (from accelerate) (0.4.5)\nRequirement already satisfied: filelock in /opt/conda/lib/python3.10/site-packages (from huggingface-hub>=0.21.0->accelerate) (3.15.1)\nRequirement already satisfied: fsspec>=2023.5.0 in /opt/conda/lib/python3.10/site-packages (from huggingface-hub>=0.21.0->accelerate) (2024.6.1)\nRequirement already satisfied: requests in /opt/conda/lib/python3.10/site-packages (from huggingface-hub>=0.21.0->accelerate) (2.32.3)\nRequirement already satisfied: tqdm>=4.42.1 in /opt/conda/lib/python3.10/site-packages (from huggingface-hub>=0.21.0->accelerate) (4.66.4)\nRequirement already satisfied: typing-extensions>=3.7.4.3 in /opt/conda/lib/python3.10/site-packages (from huggingface-hub>=0.21.0->accelerate) (4.12.2)\nRequirement already satisfied: pyparsing!=3.0.5,>=2.0.2 in /opt/conda/lib/python3.10/site-packages (from packaging>=20.0->accelerate) (3.1.2)\nRequirement already satisfied: sympy in /opt/conda/lib/python3.10/site-packages (from torch>=1.10.0->accelerate) (1.13.3)\nRequirement already satisfied: networkx in /opt/conda/lib/python3.10/site-packages (from torch>=1.10.0->accelerate) (3.3)\nRequirement already satisfied: jinja2 in /opt/conda/lib/python3.10/site-packages (from torch>=1.10.0->accelerate) (3.1.4)\nRequirement already satisfied: MarkupSafe>=2.0 in /opt/conda/lib/python3.10/site-packages (from jinja2->torch>=1.10.0->accelerate) (2.1.5)\nRequirement already satisfied: charset-normalizer<4,>=2 in /opt/conda/lib/python3.10/site-packages (from requests->huggingface-hub>=0.21.0->accelerate) (3.3.2)\nRequirement already satisfied: idna<4,>=2.5 in /opt/conda/lib/python3.10/site-packages (from requests->huggingface-hub>=0.21.0->accelerate) (3.7)\nRequirement already satisfied: urllib3<3,>=1.21.1 in /opt/conda/lib/python3.10/site-packages (from requests->huggingface-hub>=0.21.0->accelerate) (1.26.18)\nRequirement already satisfied: certifi>=2017.4.17 in /opt/conda/lib/python3.10/site-packages (from requests->huggingface-hub>=0.21.0->accelerate) (2024.8.30)\nRequirement already satisfied: mpmath<1.4,>=1.1.0 in /opt/conda/lib/python3.10/site-packages (from sympy->torch>=1.10.0->accelerate) (1.3.0)\nDownloading accelerate-1.0.0-py3-none-any.whl (330 kB)\n\u001b[2K   \u001b[90m━━━━━━━━━━━━━━━━━━━━━━━━━━━━━━━━━━━━━━━━\u001b[0m \u001b[32m330.9/330.9 kB\u001b[0m \u001b[31m8.0 MB/s\u001b[0m eta \u001b[36m0:00:00\u001b[0m:00:01\u001b[0m\n\u001b[?25hInstalling collected packages: accelerate\n  Attempting uninstall: accelerate\n    Found existing installation: accelerate 0.34.2\n    Uninstalling accelerate-0.34.2:\n      Successfully uninstalled accelerate-0.34.2\nSuccessfully installed accelerate-1.0.0\nRequirement already satisfied: datasets in /opt/conda/lib/python3.10/site-packages (3.0.1)\nRequirement already satisfied: filelock in /opt/conda/lib/python3.10/site-packages (from datasets) (3.15.1)\nRequirement already satisfied: numpy>=1.17 in /opt/conda/lib/python3.10/site-packages (from datasets) (1.26.4)\nRequirement already satisfied: pyarrow>=15.0.0 in /opt/conda/lib/python3.10/site-packages (from datasets) (16.1.0)\nRequirement already satisfied: dill<0.3.9,>=0.3.0 in /opt/conda/lib/python3.10/site-packages (from datasets) (0.3.8)\nRequirement already satisfied: pandas in /opt/conda/lib/python3.10/site-packages (from datasets) (2.2.2)\nRequirement already satisfied: requests>=2.32.2 in /opt/conda/lib/python3.10/site-packages (from datasets) (2.32.3)\nRequirement already satisfied: tqdm>=4.66.3 in /opt/conda/lib/python3.10/site-packages (from datasets) (4.66.4)\nRequirement already satisfied: xxhash in /opt/conda/lib/python3.10/site-packages (from datasets) (3.4.1)\nRequirement already satisfied: multiprocess in /opt/conda/lib/python3.10/site-packages (from datasets) (0.70.16)\nRequirement already satisfied: fsspec<=2024.6.1,>=2023.1.0 in /opt/conda/lib/python3.10/site-packages (from fsspec[http]<=2024.6.1,>=2023.1.0->datasets) (2024.6.1)\nRequirement already satisfied: aiohttp in /opt/conda/lib/python3.10/site-packages (from datasets) (3.9.5)\nRequirement already satisfied: huggingface-hub>=0.22.0 in /opt/conda/lib/python3.10/site-packages (from datasets) (0.25.1)\nRequirement already satisfied: packaging in /opt/conda/lib/python3.10/site-packages (from datasets) (21.3)\nRequirement already satisfied: pyyaml>=5.1 in /opt/conda/lib/python3.10/site-packages (from datasets) (6.0.2)\nRequirement already satisfied: aiosignal>=1.1.2 in /opt/conda/lib/python3.10/site-packages (from aiohttp->datasets) (1.3.1)\nRequirement already satisfied: attrs>=17.3.0 in /opt/conda/lib/python3.10/site-packages (from aiohttp->datasets) (23.2.0)\nRequirement already satisfied: frozenlist>=1.1.1 in /opt/conda/lib/python3.10/site-packages (from aiohttp->datasets) (1.4.1)\nRequirement already satisfied: multidict<7.0,>=4.5 in /opt/conda/lib/python3.10/site-packages (from aiohttp->datasets) (6.0.5)\nRequirement already satisfied: yarl<2.0,>=1.0 in /opt/conda/lib/python3.10/site-packages (from aiohttp->datasets) (1.9.4)\nRequirement already satisfied: async-timeout<5.0,>=4.0 in /opt/conda/lib/python3.10/site-packages (from aiohttp->datasets) (4.0.3)\nRequirement already satisfied: typing-extensions>=3.7.4.3 in /opt/conda/lib/python3.10/site-packages (from huggingface-hub>=0.22.0->datasets) (4.12.2)\nRequirement already satisfied: pyparsing!=3.0.5,>=2.0.2 in /opt/conda/lib/python3.10/site-packages (from packaging->datasets) (3.1.2)\nRequirement already satisfied: charset-normalizer<4,>=2 in /opt/conda/lib/python3.10/site-packages (from requests>=2.32.2->datasets) (3.3.2)\nRequirement already satisfied: idna<4,>=2.5 in /opt/conda/lib/python3.10/site-packages (from requests>=2.32.2->datasets) (3.7)\nRequirement already satisfied: urllib3<3,>=1.21.1 in /opt/conda/lib/python3.10/site-packages (from requests>=2.32.2->datasets) (1.26.18)\nRequirement already satisfied: certifi>=2017.4.17 in /opt/conda/lib/python3.10/site-packages (from requests>=2.32.2->datasets) (2024.8.30)\nRequirement already satisfied: python-dateutil>=2.8.2 in /opt/conda/lib/python3.10/site-packages (from pandas->datasets) (2.9.0.post0)\nRequirement already satisfied: pytz>=2020.1 in /opt/conda/lib/python3.10/site-packages (from pandas->datasets) (2024.1)\nRequirement already satisfied: tzdata>=2022.7 in /opt/conda/lib/python3.10/site-packages (from pandas->datasets) (2024.1)\nRequirement already satisfied: six>=1.5 in /opt/conda/lib/python3.10/site-packages (from python-dateutil>=2.8.2->pandas->datasets) (1.16.0)\n",
          "output_type": "stream"
        }
      ]
    },
    {
      "cell_type": "code",
      "source": [
        "# import packages dan libraries yang diperlukan : mulai dari basic library sampai pustaka transformer, accelerate, dan sklearn\n",
        "import pandas as pd\n",
        "import matplotlib.pyplot as plt\n",
        "import numpy as np\n",
        "import seaborn as sns\n",
        "import transformers, torch, datasets, os, json\n",
        "from sklearn.model_selection import train_test_split\n",
        "from sklearn.metrics import confusion_matrix, ConfusionMatrixDisplay, classification_report\n",
        "from sklearn.metrics import precision_recall_fscore_support as score\n",
        "\n",
        "from transformers import AutoTokenizer, DataCollatorWithPadding\n",
        "from transformers import AutoModelForSequenceClassification, TrainingArguments, Trainer, logging\n",
        "\n",
        "import accelerate\n",
        "from accelerate import notebook_launcher\n",
        "from accelerate import Accelerator\n",
        "\n",
        "# import library warnings untuk filterisasi warnings yang tidak diperlukan / abaikan warnings\n",
        "import warnings\n",
        "warnings.filterwarnings('ignore')"
      ],
      "metadata": {
        "execution": {
          "iopub.status.busy": "2024-10-09T09:02:52.796009Z",
          "iopub.execute_input": "2024-10-09T09:02:52.796336Z",
          "iopub.status.idle": "2024-10-09T09:03:11.729629Z",
          "shell.execute_reply.started": "2024-10-09T09:02:52.796297Z",
          "shell.execute_reply": "2024-10-09T09:03:11.728665Z"
        },
        "trusted": true,
        "id": "Ub9S9SzRmCtj"
      },
      "execution_count": null,
      "outputs": []
    },
    {
      "cell_type": "code",
      "source": [
        "# Memeriksa apakah GPU tersedia di mesin yang sedang digunakan, khususnya menggunakan CUDA untuk komputasi dengan kompleksitas yang tinggi\n",
        "\n",
        "device = torch.device(\"cuda\" if torch.cuda.is_available() else \"cpu\")\n",
        "device"
      ],
      "metadata": {
        "execution": {
          "iopub.status.busy": "2024-10-09T09:03:11.730925Z",
          "iopub.execute_input": "2024-10-09T09:03:11.731592Z",
          "iopub.status.idle": "2024-10-09T09:03:11.768650Z",
          "shell.execute_reply.started": "2024-10-09T09:03:11.731554Z",
          "shell.execute_reply": "2024-10-09T09:03:11.767620Z"
        },
        "trusted": true,
        "id": "ZhD-lNH2mCtk",
        "outputId": "846ec796-ed79-4497-bbcc-dc8c3c4e2184"
      },
      "execution_count": null,
      "outputs": [
        {
          "execution_count": 4,
          "output_type": "execute_result",
          "data": {
            "text/plain": "device(type='cuda')"
          },
          "metadata": {}
        }
      ]
    },
    {
      "cell_type": "markdown",
      "source": [
        "# **2. Membaca Dataset**\n",
        "\n",
        "Menggunakan dataset yang bersumber dari kaggle. Dataset ini berisi sebuah informasi teks yang dianggap sebagai spam dan tidak spam. Maka dari itu, pre-trained model huggingface membantu analisa dengan teks classification"
      ],
      "metadata": {
        "id": "JluzOrNcnKog"
      }
    },
    {
      "cell_type": "code",
      "source": [
        "# Gunakan direktori yang sesuai\n",
        "df = pd.read_csv('/kaggle/input/spam.csv') #Change the path"
      ],
      "metadata": {
        "execution": {
          "iopub.status.busy": "2024-10-09T09:03:21.320432Z",
          "iopub.execute_input": "2024-10-09T09:03:21.321387Z",
          "iopub.status.idle": "2024-10-09T09:03:21.415158Z",
          "shell.execute_reply.started": "2024-10-09T09:03:21.321341Z",
          "shell.execute_reply": "2024-10-09T09:03:21.414153Z"
        },
        "trusted": true,
        "id": "RlXAVS2wmCtl"
      },
      "execution_count": null,
      "outputs": []
    },
    {
      "cell_type": "code",
      "source": [
        "# Print informasi mengenai dataset, terdapat 2 jenis kolom saja yaitu kategori dan pesan\n",
        "df.info()"
      ],
      "metadata": {
        "execution": {
          "iopub.status.busy": "2024-10-09T09:03:22.228817Z",
          "iopub.execute_input": "2024-10-09T09:03:22.229195Z",
          "iopub.status.idle": "2024-10-09T09:03:22.257185Z",
          "shell.execute_reply.started": "2024-10-09T09:03:22.229161Z",
          "shell.execute_reply": "2024-10-09T09:03:22.256018Z"
        },
        "trusted": true,
        "id": "iM9ejZlimCtl",
        "outputId": "f897e5d6-e20d-4037-c115-7d13d94ae8e2"
      },
      "execution_count": null,
      "outputs": [
        {
          "name": "stdout",
          "text": "<class 'pandas.core.frame.DataFrame'>\nRangeIndex: 2636 entries, 0 to 2635\nData columns (total 2 columns):\n #   Column    Non-Null Count  Dtype \n---  ------    --------------  ----- \n 0   Kategori  2636 non-null   object\n 1   Pesan     2636 non-null   object\ndtypes: object(2)\nmemory usage: 41.3+ KB\n",
          "output_type": "stream"
        }
      ]
    },
    {
      "cell_type": "code",
      "source": [
        "# Terdapat 2636 baris dengan 2 kolom secara keseluruhan\n",
        "df.shape"
      ],
      "metadata": {
        "execution": {
          "iopub.status.busy": "2024-10-09T09:03:22.990385Z",
          "iopub.execute_input": "2024-10-09T09:03:22.990782Z",
          "iopub.status.idle": "2024-10-09T09:03:22.997275Z",
          "shell.execute_reply.started": "2024-10-09T09:03:22.990746Z",
          "shell.execute_reply": "2024-10-09T09:03:22.996355Z"
        },
        "trusted": true,
        "id": "UHpJvG8zmCtm",
        "outputId": "8c82b292-988e-4840-e9ef-1d8554ec91d8"
      },
      "execution_count": null,
      "outputs": [
        {
          "execution_count": 8,
          "output_type": "execute_result",
          "data": {
            "text/plain": "(2636, 2)"
          },
          "metadata": {}
        }
      ]
    },
    {
      "cell_type": "markdown",
      "source": [
        "# **3. Pre-processing Dataset**\n",
        "\n",
        "Membersihkan data dan melakukan balancing data. Kualitas initial data yang kita pakai akan mempengaruhi performance model dalam mempelajari setiap data yang diberikan"
      ],
      "metadata": {
        "id": "YP-BanfcnTVf"
      }
    },
    {
      "cell_type": "code",
      "source": [
        "# Melakukan pengecekkan apakah terdapat data null atau tidak\n",
        "df.isnull().sum()"
      ],
      "metadata": {
        "execution": {
          "iopub.status.busy": "2024-10-09T09:03:23.673773Z",
          "iopub.execute_input": "2024-10-09T09:03:23.674154Z",
          "iopub.status.idle": "2024-10-09T09:03:23.683174Z",
          "shell.execute_reply.started": "2024-10-09T09:03:23.674117Z",
          "shell.execute_reply": "2024-10-09T09:03:23.682147Z"
        },
        "trusted": true,
        "id": "aGUSuTXRmCtm",
        "outputId": "0daffedd-3fa6-4848-90e8-0773a3a42107"
      },
      "execution_count": null,
      "outputs": [
        {
          "execution_count": 9,
          "output_type": "execute_result",
          "data": {
            "text/plain": "Kategori    0\nPesan       0\ndtype: int64"
          },
          "metadata": {}
        }
      ]
    },
    {
      "cell_type": "code",
      "source": [
        "# Melakukan pengecekkan apakah terdapat data duplikat atau tidak\n",
        "df.duplicated().sum()"
      ],
      "metadata": {
        "execution": {
          "iopub.status.busy": "2024-10-09T09:03:23.919339Z",
          "iopub.execute_input": "2024-10-09T09:03:23.919751Z",
          "iopub.status.idle": "2024-10-09T09:03:23.936155Z",
          "shell.execute_reply.started": "2024-10-09T09:03:23.919712Z",
          "shell.execute_reply": "2024-10-09T09:03:23.935297Z"
        },
        "trusted": true,
        "id": "91IaQi7PmCtn",
        "outputId": "e05c8f84-0754-4667-d15e-f121bce76699"
      },
      "execution_count": null,
      "outputs": [
        {
          "execution_count": 10,
          "output_type": "execute_result",
          "data": {
            "text/plain": "16"
          },
          "metadata": {}
        }
      ]
    },
    {
      "cell_type": "code",
      "source": [
        "# Drop setiap data duplikat\n",
        "df = df.drop_duplicates()"
      ],
      "metadata": {
        "execution": {
          "iopub.status.busy": "2024-10-09T09:03:24.078332Z",
          "iopub.execute_input": "2024-10-09T09:03:24.079233Z",
          "iopub.status.idle": "2024-10-09T09:03:24.094295Z",
          "shell.execute_reply.started": "2024-10-09T09:03:24.079187Z",
          "shell.execute_reply": "2024-10-09T09:03:24.093523Z"
        },
        "trusted": true,
        "id": "yDq7DJHNmCtn"
      },
      "execution_count": null,
      "outputs": []
    },
    {
      "cell_type": "code",
      "source": [
        "# Cek ulang total data duplikat\n",
        "df.duplicated().sum()"
      ],
      "metadata": {
        "execution": {
          "iopub.status.busy": "2024-10-09T09:03:24.239539Z",
          "iopub.execute_input": "2024-10-09T09:03:24.240302Z",
          "iopub.status.idle": "2024-10-09T09:03:24.255624Z",
          "shell.execute_reply.started": "2024-10-09T09:03:24.240266Z",
          "shell.execute_reply": "2024-10-09T09:03:24.254777Z"
        },
        "trusted": true,
        "id": "QSHZmg_9mCto",
        "outputId": "5987d39b-bf9b-4c7c-d44a-054cc36ab770"
      },
      "execution_count": null,
      "outputs": [
        {
          "execution_count": 12,
          "output_type": "execute_result",
          "data": {
            "text/plain": "0"
          },
          "metadata": {}
        }
      ]
    },
    {
      "cell_type": "code",
      "source": [
        "# Cek ulang jumlah baris yang tersisa\n",
        "df.shape"
      ],
      "metadata": {
        "execution": {
          "iopub.status.busy": "2024-10-09T09:03:24.380271Z",
          "iopub.execute_input": "2024-10-09T09:03:24.380640Z",
          "iopub.status.idle": "2024-10-09T09:03:24.386367Z",
          "shell.execute_reply.started": "2024-10-09T09:03:24.380605Z",
          "shell.execute_reply": "2024-10-09T09:03:24.385526Z"
        },
        "trusted": true,
        "id": "kkvFNTnNmCto",
        "outputId": "e7c77161-5758-43cb-8f95-e0fbd09fee43"
      },
      "execution_count": null,
      "outputs": [
        {
          "execution_count": 13,
          "output_type": "execute_result",
          "data": {
            "text/plain": "(2620, 2)"
          },
          "metadata": {}
        }
      ]
    },
    {
      "cell_type": "code",
      "source": [
        "# Lihat jumlah masing-masing kategori : spam dan ham (not spam)\n",
        "df.Kategori.value_counts()"
      ],
      "metadata": {
        "execution": {
          "iopub.status.busy": "2024-10-09T09:03:24.533773Z",
          "iopub.execute_input": "2024-10-09T09:03:24.534119Z",
          "iopub.status.idle": "2024-10-09T09:03:24.544049Z",
          "shell.execute_reply.started": "2024-10-09T09:03:24.534085Z",
          "shell.execute_reply": "2024-10-09T09:03:24.543174Z"
        },
        "trusted": true,
        "id": "Ad0czOzZmCto",
        "outputId": "9db7e90a-5ff9-498a-f6db-6216c831a64a"
      },
      "execution_count": null,
      "outputs": [
        {
          "execution_count": 14,
          "output_type": "execute_result",
          "data": {
            "text/plain": "Kategori\nspam    1368\nham     1252\nName: count, dtype: int64"
          },
          "metadata": {}
        }
      ]
    },
    {
      "cell_type": "code",
      "source": [
        "# Encode label jadi 0 (ham) dan 1 (spam)\n",
        "df['label'] = df.Kategori.apply(lambda x: 1 if x == 'spam' else 0)\n",
        "df.label.value_counts()"
      ],
      "metadata": {
        "execution": {
          "iopub.status.busy": "2024-10-09T09:03:24.679256Z",
          "iopub.execute_input": "2024-10-09T09:03:24.680041Z",
          "iopub.status.idle": "2024-10-09T09:03:24.691603Z",
          "shell.execute_reply.started": "2024-10-09T09:03:24.680006Z",
          "shell.execute_reply": "2024-10-09T09:03:24.690766Z"
        },
        "trusted": true,
        "id": "CVEibrljmCtp",
        "outputId": "7699956c-5b3b-4f24-97c9-629e91375cfa"
      },
      "execution_count": null,
      "outputs": [
        {
          "execution_count": 15,
          "output_type": "execute_result",
          "data": {
            "text/plain": "label\n1    1368\n0    1252\nName: count, dtype: int64"
          },
          "metadata": {}
        }
      ]
    },
    {
      "cell_type": "code",
      "source": [
        "# Tampilkan 5 data teratas yang sudah di encode\n",
        "df.head()"
      ],
      "metadata": {
        "execution": {
          "iopub.status.busy": "2024-10-09T09:03:24.858268Z",
          "iopub.execute_input": "2024-10-09T09:03:24.858658Z",
          "iopub.status.idle": "2024-10-09T09:03:24.872503Z",
          "shell.execute_reply.started": "2024-10-09T09:03:24.858622Z",
          "shell.execute_reply": "2024-10-09T09:03:24.871394Z"
        },
        "trusted": true,
        "id": "CcqguLpqmCtp",
        "outputId": "1d95694c-c9f1-488d-eed5-3f035b1f0ffd"
      },
      "execution_count": null,
      "outputs": [
        {
          "execution_count": 16,
          "output_type": "execute_result",
          "data": {
            "text/plain": "  Kategori                                              Pesan  label\n0     spam  Secara alami tak tertahankan identitas perusah...      1\n1     spam  Fanny Gunslinger Perdagangan Saham adalah Merr...      1\n2     spam  Rumah -rumah baru yang luar biasa menjadi muda...      1\n3     spam  4 Permintaan Khusus Pencetakan Warna Informasi...      1\n4     spam  Jangan punya uang, dapatkan CD perangkat lunak...      1",
            "text/html": "<div>\n<style scoped>\n    .dataframe tbody tr th:only-of-type {\n        vertical-align: middle;\n    }\n\n    .dataframe tbody tr th {\n        vertical-align: top;\n    }\n\n    .dataframe thead th {\n        text-align: right;\n    }\n</style>\n<table border=\"1\" class=\"dataframe\">\n  <thead>\n    <tr style=\"text-align: right;\">\n      <th></th>\n      <th>Kategori</th>\n      <th>Pesan</th>\n      <th>label</th>\n    </tr>\n  </thead>\n  <tbody>\n    <tr>\n      <th>0</th>\n      <td>spam</td>\n      <td>Secara alami tak tertahankan identitas perusah...</td>\n      <td>1</td>\n    </tr>\n    <tr>\n      <th>1</th>\n      <td>spam</td>\n      <td>Fanny Gunslinger Perdagangan Saham adalah Merr...</td>\n      <td>1</td>\n    </tr>\n    <tr>\n      <th>2</th>\n      <td>spam</td>\n      <td>Rumah -rumah baru yang luar biasa menjadi muda...</td>\n      <td>1</td>\n    </tr>\n    <tr>\n      <th>3</th>\n      <td>spam</td>\n      <td>4 Permintaan Khusus Pencetakan Warna Informasi...</td>\n      <td>1</td>\n    </tr>\n    <tr>\n      <th>4</th>\n      <td>spam</td>\n      <td>Jangan punya uang, dapatkan CD perangkat lunak...</td>\n      <td>1</td>\n    </tr>\n  </tbody>\n</table>\n</div>"
          },
          "metadata": {}
        }
      ]
    },
    {
      "cell_type": "code",
      "source": [
        "# Menyeleksi dua kolom spesifik dari DataFrame utama\n",
        "df_label=df[['label','Pesan']]\n",
        "df_label.head()"
      ],
      "metadata": {
        "execution": {
          "iopub.status.busy": "2024-10-09T09:03:25.016135Z",
          "iopub.execute_input": "2024-10-09T09:03:25.016843Z",
          "iopub.status.idle": "2024-10-09T09:03:25.029182Z",
          "shell.execute_reply.started": "2024-10-09T09:03:25.016806Z",
          "shell.execute_reply": "2024-10-09T09:03:25.028264Z"
        },
        "trusted": true,
        "id": "DCUhhNUPmCtp",
        "outputId": "f12675e4-52c1-49fb-b65d-5bc47b451836"
      },
      "execution_count": null,
      "outputs": [
        {
          "execution_count": 17,
          "output_type": "execute_result",
          "data": {
            "text/plain": "   label                                              Pesan\n0      1  Secara alami tak tertahankan identitas perusah...\n1      1  Fanny Gunslinger Perdagangan Saham adalah Merr...\n2      1  Rumah -rumah baru yang luar biasa menjadi muda...\n3      1  4 Permintaan Khusus Pencetakan Warna Informasi...\n4      1  Jangan punya uang, dapatkan CD perangkat lunak...",
            "text/html": "<div>\n<style scoped>\n    .dataframe tbody tr th:only-of-type {\n        vertical-align: middle;\n    }\n\n    .dataframe tbody tr th {\n        vertical-align: top;\n    }\n\n    .dataframe thead th {\n        text-align: right;\n    }\n</style>\n<table border=\"1\" class=\"dataframe\">\n  <thead>\n    <tr style=\"text-align: right;\">\n      <th></th>\n      <th>label</th>\n      <th>Pesan</th>\n    </tr>\n  </thead>\n  <tbody>\n    <tr>\n      <th>0</th>\n      <td>1</td>\n      <td>Secara alami tak tertahankan identitas perusah...</td>\n    </tr>\n    <tr>\n      <th>1</th>\n      <td>1</td>\n      <td>Fanny Gunslinger Perdagangan Saham adalah Merr...</td>\n    </tr>\n    <tr>\n      <th>2</th>\n      <td>1</td>\n      <td>Rumah -rumah baru yang luar biasa menjadi muda...</td>\n    </tr>\n    <tr>\n      <th>3</th>\n      <td>1</td>\n      <td>4 Permintaan Khusus Pencetakan Warna Informasi...</td>\n    </tr>\n    <tr>\n      <th>4</th>\n      <td>1</td>\n      <td>Jangan punya uang, dapatkan CD perangkat lunak...</td>\n    </tr>\n  </tbody>\n</table>\n</div>"
          },
          "metadata": {}
        }
      ]
    },
    {
      "cell_type": "code",
      "source": [
        "# Melakukan instalasi pustaka imbalanced-learn\n",
        "pip install imbalanced-learn"
      ],
      "metadata": {
        "execution": {
          "iopub.status.busy": "2024-10-09T09:03:25.196338Z",
          "iopub.execute_input": "2024-10-09T09:03:25.197253Z",
          "iopub.status.idle": "2024-10-09T09:03:36.627641Z",
          "shell.execute_reply.started": "2024-10-09T09:03:25.197214Z",
          "shell.execute_reply": "2024-10-09T09:03:36.626510Z"
        },
        "trusted": true,
        "id": "at_1e9I3mCtq",
        "outputId": "24d4b5f1-9111-4e51-a9b5-ede2573623ad"
      },
      "execution_count": null,
      "outputs": [
        {
          "name": "stdout",
          "text": "Requirement already satisfied: imbalanced-learn in /opt/conda/lib/python3.10/site-packages (0.12.3)\nRequirement already satisfied: numpy>=1.17.3 in /opt/conda/lib/python3.10/site-packages (from imbalanced-learn) (1.26.4)\nRequirement already satisfied: scipy>=1.5.0 in /opt/conda/lib/python3.10/site-packages (from imbalanced-learn) (1.14.1)\nRequirement already satisfied: scikit-learn>=1.0.2 in /opt/conda/lib/python3.10/site-packages (from imbalanced-learn) (1.2.2)\nRequirement already satisfied: joblib>=1.1.1 in /opt/conda/lib/python3.10/site-packages (from imbalanced-learn) (1.4.2)\nRequirement already satisfied: threadpoolctl>=2.0.0 in /opt/conda/lib/python3.10/site-packages (from imbalanced-learn) (3.5.0)\nNote: you may need to restart the kernel to use updated packages.\n",
          "output_type": "stream"
        }
      ]
    },
    {
      "cell_type": "code",
      "source": [
        "# Melakukan balancing value dalam kategori ham dan spam dengan oversampling\n",
        "# Random Oversampling menangani masalah class imbalance dalam dataset, terutama ketika jumlah sampel dari satu kelas jauh lebih sedikit dibandingkan kelas lainnya.\n",
        "\n",
        "from imblearn.over_sampling import RandomOverSampler\n",
        "\n",
        "ros = RandomOverSampler(random_state=42)\n",
        "df_resampled, label_resampled = ros.fit_resample(df_label[['Pesan']], df_label['label'])\n",
        "\n",
        "# Menyimpan hasil resampling ke dalam dataframe\n",
        "df_resampled['label'] = label_resampled\n",
        "print(df_resampled)"
      ],
      "metadata": {
        "execution": {
          "iopub.status.busy": "2024-10-09T09:03:36.629667Z",
          "iopub.execute_input": "2024-10-09T09:03:36.630010Z",
          "iopub.status.idle": "2024-10-09T09:03:36.959214Z",
          "shell.execute_reply.started": "2024-10-09T09:03:36.629970Z",
          "shell.execute_reply": "2024-10-09T09:03:36.958254Z"
        },
        "trusted": true,
        "id": "omQrPChYmCtq",
        "outputId": "689625f3-92b7-45f2-84a1-7bc45e561112"
      },
      "execution_count": null,
      "outputs": [
        {
          "name": "stdout",
          "text": "                                                  Pesan  label\n0     Secara alami tak tertahankan identitas perusah...      1\n1     Fanny Gunslinger Perdagangan Saham adalah Merr...      1\n2     Rumah -rumah baru yang luar biasa menjadi muda...      1\n3     4 Permintaan Khusus Pencetakan Warna Informasi...      1\n4     Jangan punya uang, dapatkan CD perangkat lunak...      1\n...                                                 ...    ...\n2731  Sebuah makalah saya Vince, saya telah menulis ...      0\n2732  Pengumuman Organisasi Kami dengan senang hati ...      0\n2733  Posisi ahli statistik terbuka, jangan ragu unt...      0\n2734  Tuan -tuan, berbicara kepada Vince K hari ini ...      0\n2735  Buku Derivatif Energi Hi Vince, senang berbica...      0\n\n[2736 rows x 2 columns]\n",
          "output_type": "stream"
        }
      ]
    },
    {
      "cell_type": "code",
      "source": [
        "# Tampilkan data yang sudah di oversampling\n",
        "print(df_resampled.label.value_counts())\n",
        "print(df_resampled.shape)"
      ],
      "metadata": {
        "execution": {
          "iopub.status.busy": "2024-10-09T09:03:36.960723Z",
          "iopub.execute_input": "2024-10-09T09:03:36.961410Z",
          "iopub.status.idle": "2024-10-09T09:03:36.967223Z",
          "shell.execute_reply.started": "2024-10-09T09:03:36.961364Z",
          "shell.execute_reply": "2024-10-09T09:03:36.966323Z"
        },
        "trusted": true,
        "id": "dTvUa_MymCtq",
        "outputId": "431795ec-457c-4259-c10d-b3e31ea1b7f8"
      },
      "execution_count": null,
      "outputs": [
        {
          "name": "stdout",
          "text": "label\n1    1368\n0    1368\nName: count, dtype: int64\n(2736, 2)\n",
          "output_type": "stream"
        }
      ]
    },
    {
      "cell_type": "markdown",
      "source": [
        "# **4. Splitting Data**\n",
        "\n",
        "Membagi data untuk training testing dan validation, dimana test_size = 0.3"
      ],
      "metadata": {
        "id": "q1uL2GaOnk0w"
      }
    },
    {
      "cell_type": "code",
      "source": [
        "# Membagi dataset df_resampled menjadi dua bagian, yaitu 70% data pelatihan/validasi (train_val) dan 30% data pengujian (test)\n",
        "# secara acak dengan memastikan hasil acak yang konsisten menggunakan random_state=42.\n",
        "train_val, test = train_test_split(df_resampled, test_size=0.3, random_state=42,shuffle=True)"
      ],
      "metadata": {
        "execution": {
          "iopub.status.busy": "2024-10-09T09:03:36.969717Z",
          "iopub.execute_input": "2024-10-09T09:03:36.970370Z",
          "iopub.status.idle": "2024-10-09T09:03:36.980960Z",
          "shell.execute_reply.started": "2024-10-09T09:03:36.970322Z",
          "shell.execute_reply": "2024-10-09T09:03:36.980200Z"
        },
        "trusted": true,
        "id": "AxNyViAmmCtq"
      },
      "execution_count": null,
      "outputs": []
    },
    {
      "cell_type": "code",
      "source": [
        "# Membagi data train_val yang sebelumnya sudah dipisahkan, menjadi dua bagian: 70% untuk pelatihan (train) dan 30% untuk validasi (val)\n",
        "train,val=train_test_split(train_val, test_size=0.3, random_state=42,shuffle=True)"
      ],
      "metadata": {
        "execution": {
          "iopub.status.busy": "2024-10-09T09:03:36.982243Z",
          "iopub.execute_input": "2024-10-09T09:03:36.982652Z",
          "iopub.status.idle": "2024-10-09T09:03:36.992691Z",
          "shell.execute_reply.started": "2024-10-09T09:03:36.982605Z",
          "shell.execute_reply": "2024-10-09T09:03:36.991904Z"
        },
        "trusted": true,
        "id": "A2n4G4ZGmCtr"
      },
      "execution_count": null,
      "outputs": []
    },
    {
      "cell_type": "code",
      "source": [
        "# print shape masing-masing data yang sudah di splitting\n",
        "train.shape, val.shape, test.shape"
      ],
      "metadata": {
        "execution": {
          "iopub.status.busy": "2024-10-09T09:03:36.994002Z",
          "iopub.execute_input": "2024-10-09T09:03:36.994718Z",
          "iopub.status.idle": "2024-10-09T09:03:37.005318Z",
          "shell.execute_reply.started": "2024-10-09T09:03:36.994672Z",
          "shell.execute_reply": "2024-10-09T09:03:37.004427Z"
        },
        "trusted": true,
        "id": "FtCRXEi8mCtr",
        "outputId": "f217515a-b9b1-47f5-ae58-19f7534e6c2d"
      },
      "execution_count": null,
      "outputs": [
        {
          "execution_count": 23,
          "output_type": "execute_result",
          "data": {
            "text/plain": "((1340, 2), (575, 2), (821, 2))"
          },
          "metadata": {}
        }
      ]
    },
    {
      "cell_type": "markdown",
      "source": [
        "# **5. Pre-trained Model**\n",
        "\n",
        "Menggunakan pre-trained model dari protectai yaitu microsoft/MiniLM-L12-H384-uncased\n",
        "- Arsitektur Model: MiniLM (Mini Language Model) adalah versi ringan dari model transformer seperti BERT, yang dirancang untuk memberikan kinerja tinggi dengan ukuran yang jauh lebih kecil.\n",
        "- L12: Model ini memiliki 12 layer (lapisan) di dalam arsitektur transformernya.\n",
        "- Setiap layer memiliki ukuran hidden state sebesar 384 dimensi, yang jauh lebih kecil dibandingkan model transformer besar lainnya seperti BERT atau RoBERTa.\n",
        "- Ini adalah model uncased, yang berarti huruf besar dan kecil diperlakukan sama (case-insensitive). Jadi, misalnya, \"apple\" dan \"Apple\" akan diperlakukan sebagai kata yang sama."
      ],
      "metadata": {
        "id": "gQOOI9oUnrGt"
      }
    },
    {
      "cell_type": "code",
      "source": [
        "pretrained_model='microsoft/MiniLM-L12-H384-uncased'"
      ],
      "metadata": {
        "execution": {
          "iopub.status.busy": "2024-10-09T09:05:40.835010Z",
          "iopub.execute_input": "2024-10-09T09:05:40.835391Z",
          "iopub.status.idle": "2024-10-09T09:05:40.839770Z",
          "shell.execute_reply.started": "2024-10-09T09:05:40.835354Z",
          "shell.execute_reply": "2024-10-09T09:05:40.838760Z"
        },
        "trusted": true,
        "id": "O5KHGpPLmCtr"
      },
      "execution_count": null,
      "outputs": []
    },
    {
      "cell_type": "code",
      "source": [
        "# Tokenizer ini sedang dimuat untuk model pre-trained\n",
        "# dan proses tersebut memerlukan pengunduhan beberapa file penting yang mengatur bagaimana teks akan diproses menjadi token.\n",
        "# Tokenizer adalah bagian penting dalam sistem pemrosesan bahasa alami (NLP) untuk mengonversi teks menjadi format numerik yang bisa dipahami oleh model AI.\n",
        "tokenizer=AutoTokenizer.from_pretrained(pretrained_model)"
      ],
      "metadata": {
        "execution": {
          "iopub.status.busy": "2024-10-09T09:05:41.376761Z",
          "iopub.execute_input": "2024-10-09T09:05:41.377140Z",
          "iopub.status.idle": "2024-10-09T09:05:42.618811Z",
          "shell.execute_reply.started": "2024-10-09T09:05:41.377101Z",
          "shell.execute_reply": "2024-10-09T09:05:42.617853Z"
        },
        "trusted": true,
        "colab": {
          "referenced_widgets": [
            "80cce66579c54b36b25b1ea9885f722e",
            "9b24852ba3184561adadd2bc4b7e0ed8",
            "fa91ee6336ce4e17818e4638bf36daf4",
            "9592c09c35624accadeb430c5cf065fe"
          ]
        },
        "id": "SvckdY9dmCtr",
        "outputId": "b3c53d97-8a02-4a7a-9fc7-0c0c41e06d6d"
      },
      "execution_count": null,
      "outputs": [
        {
          "output_type": "display_data",
          "data": {
            "text/plain": "tokenizer_config.json:   0%|          | 0.00/2.00 [00:00<?, ?B/s]",
            "application/vnd.jupyter.widget-view+json": {
              "version_major": 2,
              "version_minor": 0,
              "model_id": "80cce66579c54b36b25b1ea9885f722e"
            }
          },
          "metadata": {}
        },
        {
          "output_type": "display_data",
          "data": {
            "text/plain": "config.json:   0%|          | 0.00/385 [00:00<?, ?B/s]",
            "application/vnd.jupyter.widget-view+json": {
              "version_major": 2,
              "version_minor": 0,
              "model_id": "9b24852ba3184561adadd2bc4b7e0ed8"
            }
          },
          "metadata": {}
        },
        {
          "output_type": "display_data",
          "data": {
            "text/plain": "vocab.txt:   0%|          | 0.00/232k [00:00<?, ?B/s]",
            "application/vnd.jupyter.widget-view+json": {
              "version_major": 2,
              "version_minor": 0,
              "model_id": "fa91ee6336ce4e17818e4638bf36daf4"
            }
          },
          "metadata": {}
        },
        {
          "output_type": "display_data",
          "data": {
            "text/plain": "special_tokens_map.json:   0%|          | 0.00/112 [00:00<?, ?B/s]",
            "application/vnd.jupyter.widget-view+json": {
              "version_major": 2,
              "version_minor": 0,
              "model_id": "9592c09c35624accadeb430c5cf065fe"
            }
          },
          "metadata": {}
        }
      ]
    },
    {
      "cell_type": "code",
      "source": [
        "# Kode ini melakukan tokenisasi pada teks dalam kolom 'Pesan' dari df_resampled menggunakan tokenizer yang telah dimuat.\n",
        "token_lengths = [len(tokenizer(text)['input_ids']) for text in df_resampled['Pesan']]\n",
        "\n",
        "# token length = daftar yang menyimpan panjang token (jumlah token) untuk setiap pesan dalam dataset setelah tokenisasi.\n",
        "max_length = max(token_lengths)\n",
        "mean_length = sum(token_lengths) / len(token_lengths)\n",
        "median_length = sorted(token_lengths)[len(token_lengths) // 2]\n",
        "\n",
        "# Mengeksplorasi distribusi panjang token dalam dataset, memberikan informasi seperti panjang terpanjang, rata-rata, dan median\n",
        "# yang penting dalam menentukan konfigurasi seperti max_length untuk model machine learning.\n",
        "print(f\"Max token length: {max_length}\")\n",
        "print(f\"Mean token length: {mean_length}\")\n",
        "print(f\"Median token length: {median_length}\")"
      ],
      "metadata": {
        "execution": {
          "iopub.status.busy": "2024-10-09T09:05:42.621074Z",
          "iopub.execute_input": "2024-10-09T09:05:42.621469Z",
          "iopub.status.idle": "2024-10-09T09:05:46.231789Z",
          "shell.execute_reply.started": "2024-10-09T09:05:42.621423Z",
          "shell.execute_reply": "2024-10-09T09:05:46.230842Z"
        },
        "trusted": true,
        "id": "eXLBa4KomCts",
        "outputId": "5ab0b474-5901-4dcc-819a-ec514fd3e930"
      },
      "execution_count": null,
      "outputs": [
        {
          "name": "stdout",
          "text": "Max token length: 11968\nMean token length: 544.2766812865497\nMedian token length: 315\n",
          "output_type": "stream"
        }
      ]
    },
    {
      "cell_type": "code",
      "source": [
        "# Maka max length yang paling pas adalah 512\n",
        "max_length=512"
      ],
      "metadata": {
        "execution": {
          "iopub.status.busy": "2024-10-09T09:05:48.097846Z",
          "iopub.execute_input": "2024-10-09T09:05:48.098527Z",
          "iopub.status.idle": "2024-10-09T09:05:48.102849Z",
          "shell.execute_reply.started": "2024-10-09T09:05:48.098463Z",
          "shell.execute_reply": "2024-10-09T09:05:48.101793Z"
        },
        "trusted": true,
        "id": "YmzQ37-CmCts"
      },
      "execution_count": null,
      "outputs": []
    },
    {
      "cell_type": "code",
      "source": [
        "# tokenize_function mempersiapkan teks dengan melakukan tokenisasi, truncation, dan padding sesuai panjang maksimum yang diizinkan.\n",
        "def tokenize_function(examples):\n",
        "    return tokenizer(examples['Pesan'], truncation=True,padding='max_length',max_length=max_length)\n",
        "\n",
        "# convert_to_dataset mengonversi DataFrame pandas menjadi format Dataset Hugging Face dan menerapkan tokenisasi ke seluruh dataset,\n",
        "# serta membersihkan kolom teks asli setelah tokenisasi dilakukan.\n",
        "def convert_to_dataset(dataframe):\n",
        "    dataset = Dataset.from_pandas(dataframe, preserve_index=False)\n",
        "    dataset = dataset.map(tokenize_function, batched=True)\n",
        "    dataset=dataset.remove_columns(['Pesan'])\n",
        "    return dataset"
      ],
      "metadata": {
        "execution": {
          "iopub.status.busy": "2024-10-09T09:05:49.147100Z",
          "iopub.execute_input": "2024-10-09T09:05:49.147953Z",
          "iopub.status.idle": "2024-10-09T09:05:49.153546Z",
          "shell.execute_reply.started": "2024-10-09T09:05:49.147914Z",
          "shell.execute_reply": "2024-10-09T09:05:49.152511Z"
        },
        "trusted": true,
        "id": "BxjnnsRjmCts"
      },
      "execution_count": null,
      "outputs": []
    },
    {
      "cell_type": "code",
      "source": [
        "# Kode ini mempersiapkan dataset pelatihan dan validasi dalam format yang telah ditokenisasi\n",
        "# dan siap diproses oleh model Transformer untuk proses pelatihan (training) dan validasi (evaluation).\n",
        "tokenized_train = convert_to_dataset(train)\n",
        "tokenized_val = convert_to_dataset(val)"
      ],
      "metadata": {
        "execution": {
          "iopub.status.busy": "2024-10-09T09:05:49.962633Z",
          "iopub.execute_input": "2024-10-09T09:05:49.963350Z",
          "iopub.status.idle": "2024-10-09T09:05:51.946368Z",
          "shell.execute_reply.started": "2024-10-09T09:05:49.963313Z",
          "shell.execute_reply": "2024-10-09T09:05:51.945434Z"
        },
        "trusted": true,
        "colab": {
          "referenced_widgets": [
            "499729fdcec240d1baffe93668cb0621",
            "4bf471dc3bba4bb38a9c6ca817fcfc80"
          ]
        },
        "id": "l3Qvz0iymCts",
        "outputId": "81e9e0c7-fcb1-4b1e-d156-eb195e597ffc"
      },
      "execution_count": null,
      "outputs": [
        {
          "output_type": "display_data",
          "data": {
            "text/plain": "Map:   0%|          | 0/1340 [00:00<?, ? examples/s]",
            "application/vnd.jupyter.widget-view+json": {
              "version_major": 2,
              "version_minor": 0,
              "model_id": "499729fdcec240d1baffe93668cb0621"
            }
          },
          "metadata": {}
        },
        {
          "output_type": "display_data",
          "data": {
            "text/plain": "Map:   0%|          | 0/575 [00:00<?, ? examples/s]",
            "application/vnd.jupyter.widget-view+json": {
              "version_major": 2,
              "version_minor": 0,
              "model_id": "4bf471dc3bba4bb38a9c6ca817fcfc80"
            }
          },
          "metadata": {}
        }
      ]
    },
    {
      "cell_type": "code",
      "source": [
        "# Data collator memastikan input dalam batch diproses dengan panjang yang sama, penting untuk efisiensi pelatihan.\n",
        "data_collator = DataCollatorWithPadding(tokenizer=tokenizer)\n",
        "\n",
        "# Model diload dari model pre-trained untuk tugas klasifikasi, dan disesuaikan untuk klasifikasi dua kelas.\n",
        "model = AutoModelForSequenceClassification.from_pretrained(pretrained_model, num_labels=2)"
      ],
      "metadata": {
        "execution": {
          "iopub.status.busy": "2024-10-09T09:05:53.328209Z",
          "iopub.execute_input": "2024-10-09T09:05:53.328868Z",
          "iopub.status.idle": "2024-10-09T09:05:55.118764Z",
          "shell.execute_reply.started": "2024-10-09T09:05:53.328828Z",
          "shell.execute_reply": "2024-10-09T09:05:55.117993Z"
        },
        "trusted": true,
        "colab": {
          "referenced_widgets": [
            "6a11bb30b79e484095cf36c3f6c3b4af"
          ]
        },
        "id": "CwHRJWG2mCts",
        "outputId": "6e7bc79f-24b4-4073-bd23-7de1649d3014"
      },
      "execution_count": null,
      "outputs": [
        {
          "output_type": "display_data",
          "data": {
            "text/plain": "pytorch_model.bin:   0%|          | 0.00/133M [00:00<?, ?B/s]",
            "application/vnd.jupyter.widget-view+json": {
              "version_major": 2,
              "version_minor": 0,
              "model_id": "6a11bb30b79e484095cf36c3f6c3b4af"
            }
          },
          "metadata": {}
        },
        {
          "name": "stderr",
          "text": "Some weights of BertForSequenceClassification were not initialized from the model checkpoint at microsoft/MiniLM-L12-H384-uncased and are newly initialized: ['classifier.bias', 'classifier.weight']\nYou should probably TRAIN this model on a down-stream task to be able to use it for predictions and inference.\n",
          "output_type": "stream"
        }
      ]
    },
    {
      "cell_type": "code",
      "source": [
        "# MultiGPU training\n",
        "accelerator = Accelerator()"
      ],
      "metadata": {
        "execution": {
          "iopub.status.busy": "2024-10-09T09:05:58.232224Z",
          "iopub.execute_input": "2024-10-09T09:05:58.232618Z",
          "iopub.status.idle": "2024-10-09T09:05:58.269234Z",
          "shell.execute_reply.started": "2024-10-09T09:05:58.232580Z",
          "shell.execute_reply": "2024-10-09T09:05:58.268281Z"
        },
        "trusted": true,
        "id": "9XbPRn4tmCtt"
      },
      "execution_count": null,
      "outputs": []
    },
    {
      "cell_type": "code",
      "source": [
        "# Digunakan untuk mengatur berbagai parameter yang terkait dengan pelatihan model\n",
        "training_args = TrainingArguments(\n",
        "    output_dir=\"./results\",\n",
        "    save_strategy='epoch',\n",
        "    optim=\"adamw_torch\",\n",
        "    learning_rate=2e-5,\n",
        "    per_device_train_batch_size=32, # Jumlah sampel per batch selama pelatihan adalah 32\n",
        "    per_device_eval_batch_size=32, # Jumlah sampel per batch selama evaluasi adalah 32\n",
        "    num_train_epochs=3,\n",
        "    weight_decay=0.01,\n",
        "    report_to=\"none\",\n",
        "    eval_steps=5,\n",
        "    logging_steps=5,\n",
        ")\n",
        "\n",
        "# Membuat Trainer untuk menangani pelatihan model\n",
        "trainer = Trainer(\n",
        "    model=model, # Model yang dilatih adalah model klasifikasi sekuens yang telah diload sebelumnya\n",
        "    args=training_args, # Menggunakan parameter pelatihan yang telah diatur di TrainingArguments\n",
        "    train_dataset=tokenized_train, # Dataset pelatihan yang sudah ditokenisasi\n",
        "    eval_dataset=tokenized_val, # Dataset validasi yang sudah ditokenisasi\n",
        "    tokenizer=tokenizer, # Tokenizer yang digunakan untuk pelatihan\n",
        "    data_collator=data_collator, # Data collator yang mengatur padding pada setiap batch\n",
        ")\n",
        "\n",
        "# Accelerator digunakan untuk mengelola pelatihan yang lebih efisien, seperti menjalankan pada GPU atau multi-device secara otomatis.\n",
        "model, trainer = accelerator.prepare(model, trainer)\n",
        "\n",
        "# Menjalankan proses pelatihan model berdasarkan semua pengaturan yang telah disediakan\n",
        "trainer.train()"
      ],
      "metadata": {
        "execution": {
          "iopub.status.busy": "2024-10-09T09:06:07.333517Z",
          "iopub.execute_input": "2024-10-09T09:06:07.334437Z",
          "iopub.status.idle": "2024-10-09T09:07:43.653536Z",
          "shell.execute_reply.started": "2024-10-09T09:06:07.334391Z",
          "shell.execute_reply": "2024-10-09T09:07:43.652716Z"
        },
        "trusted": true,
        "id": "4s2lCM-8mCtu",
        "outputId": "6a5fe200-1db2-421a-c0bb-ff1fdaafd4e7"
      },
      "execution_count": null,
      "outputs": [
        {
          "output_type": "display_data",
          "data": {
            "text/plain": "<IPython.core.display.HTML object>",
            "text/html": "\n    <div>\n      \n      <progress value='126' max='126' style='width:300px; height:20px; vertical-align: middle;'></progress>\n      [126/126 01:33, Epoch 3/3]\n    </div>\n    <table border=\"1\" class=\"dataframe\">\n  <thead>\n <tr style=\"text-align: left;\">\n      <th>Step</th>\n      <th>Training Loss</th>\n    </tr>\n  </thead>\n  <tbody>\n    <tr>\n      <td>5</td>\n      <td>0.694200</td>\n    </tr>\n    <tr>\n      <td>10</td>\n      <td>0.690200</td>\n    </tr>\n    <tr>\n      <td>15</td>\n      <td>0.688800</td>\n    </tr>\n    <tr>\n      <td>20</td>\n      <td>0.685400</td>\n    </tr>\n    <tr>\n      <td>25</td>\n      <td>0.666800</td>\n    </tr>\n    <tr>\n      <td>30</td>\n      <td>0.654000</td>\n    </tr>\n    <tr>\n      <td>35</td>\n      <td>0.570100</td>\n    </tr>\n    <tr>\n      <td>40</td>\n      <td>0.499200</td>\n    </tr>\n    <tr>\n      <td>45</td>\n      <td>0.459900</td>\n    </tr>\n    <tr>\n      <td>50</td>\n      <td>0.435000</td>\n    </tr>\n    <tr>\n      <td>55</td>\n      <td>0.398100</td>\n    </tr>\n    <tr>\n      <td>60</td>\n      <td>0.352500</td>\n    </tr>\n    <tr>\n      <td>65</td>\n      <td>0.345400</td>\n    </tr>\n    <tr>\n      <td>70</td>\n      <td>0.302700</td>\n    </tr>\n    <tr>\n      <td>75</td>\n      <td>0.367900</td>\n    </tr>\n    <tr>\n      <td>80</td>\n      <td>0.360400</td>\n    </tr>\n    <tr>\n      <td>85</td>\n      <td>0.327500</td>\n    </tr>\n    <tr>\n      <td>90</td>\n      <td>0.304000</td>\n    </tr>\n    <tr>\n      <td>95</td>\n      <td>0.365300</td>\n    </tr>\n    <tr>\n      <td>100</td>\n      <td>0.330400</td>\n    </tr>\n    <tr>\n      <td>105</td>\n      <td>0.279700</td>\n    </tr>\n    <tr>\n      <td>110</td>\n      <td>0.280200</td>\n    </tr>\n    <tr>\n      <td>115</td>\n      <td>0.245700</td>\n    </tr>\n    <tr>\n      <td>120</td>\n      <td>0.260400</td>\n    </tr>\n    <tr>\n      <td>125</td>\n      <td>0.236100</td>\n    </tr>\n  </tbody>\n</table><p>"
          },
          "metadata": {}
        },
        {
          "execution_count": 45,
          "output_type": "execute_result",
          "data": {
            "text/plain": "TrainOutput(global_step=126, training_loss=0.43155549537567867, metrics={'train_runtime': 95.0887, 'train_samples_per_second': 42.276, 'train_steps_per_second': 1.325, 'total_flos': 264808375050240.0, 'train_loss': 0.43155549537567867, 'epoch': 3.0})"
          },
          "metadata": {}
        }
      ]
    },
    {
      "cell_type": "code",
      "source": [
        "# Menonaktifkan Weights and Biases (WandB)\n",
        "\n",
        "os.environ['WANDB_DISABLED'] = 'true'"
      ],
      "metadata": {
        "execution": {
          "iopub.status.busy": "2024-10-09T09:07:44.988325Z",
          "iopub.execute_input": "2024-10-09T09:07:44.988759Z",
          "iopub.status.idle": "2024-10-09T09:07:44.994172Z",
          "shell.execute_reply.started": "2024-10-09T09:07:44.988702Z",
          "shell.execute_reply": "2024-10-09T09:07:44.992992Z"
        },
        "trusted": true,
        "id": "2bWn8m0-mCtv"
      },
      "execution_count": null,
      "outputs": []
    },
    {
      "cell_type": "markdown",
      "source": [
        "# **6. Evaluasi Model**"
      ],
      "metadata": {
        "id": "IGJgjjVpoi5g"
      }
    },
    {
      "cell_type": "code",
      "source": [
        "# Dataset uji (test) diubah menjadi format Dataset dan ditokenisasi menggunakan fungsi convert_to_dataset\n",
        "tokenized_test = convert_to_dataset(test)\n",
        "tokenized_test = tokenized_test.remove_columns(['label'])\n",
        "\n",
        "# Membuat objek Trainer yang digunakan untuk membuat prediksi\n",
        "trainer = Trainer(model=model, tokenizer=tokenizer, data_collator=data_collator)\n",
        "# Menggunakan Trainer untuk memprediksi label dari dataset uji yang telah ditokenisasi\n",
        "predictions = trainer.predict(tokenized_test)\n",
        "\n",
        "# Mengambil hasil prediksi dan menggunakan argmax untuk mendapatkan label prediksi\n",
        "predicted_labels = np.argmax(predictions.predictions, axis=1)\n",
        "\n",
        "# Menghitung metrik evaluasi utama (precision, recall, dan F1 score) untuk menilai performa model terhadap dataset uji\n",
        "precision, recall, fscore, _ = score(test['label'], predicted_labels, average='binary')\n",
        "print(f'Precision: {precision:.4f}')\n",
        "print(f'Recall: {recall:.4f}')\n",
        "print(f'F1 Score: {fscore:.4f}')"
      ],
      "metadata": {
        "execution": {
          "iopub.status.busy": "2024-10-09T09:07:46.724592Z",
          "iopub.execute_input": "2024-10-09T09:07:46.724985Z",
          "iopub.status.idle": "2024-10-09T09:07:53.625320Z",
          "shell.execute_reply.started": "2024-10-09T09:07:46.724949Z",
          "shell.execute_reply": "2024-10-09T09:07:53.624369Z"
        },
        "trusted": true,
        "colab": {
          "referenced_widgets": [
            "bdc592b4e10d4884a1b1b8f2bbd8b3b2"
          ]
        },
        "id": "_q-g5_BAmCtv",
        "outputId": "09c4cf0e-b993-42a5-e8e5-f044432cb97f"
      },
      "execution_count": null,
      "outputs": [
        {
          "output_type": "display_data",
          "data": {
            "text/plain": "Map:   0%|          | 0/821 [00:00<?, ? examples/s]",
            "application/vnd.jupyter.widget-view+json": {
              "version_major": 2,
              "version_minor": 0,
              "model_id": "bdc592b4e10d4884a1b1b8f2bbd8b3b2"
            }
          },
          "metadata": {}
        },
        {
          "name": "stderr",
          "text": "Using the `WANDB_DISABLED` environment variable is deprecated and will be removed in v5. Use the --report_to flag to control the integrations used for logging result (for instance --report_to none).\n",
          "output_type": "stream"
        },
        {
          "output_type": "display_data",
          "data": {
            "text/plain": "<IPython.core.display.HTML object>",
            "text/html": ""
          },
          "metadata": {}
        },
        {
          "name": "stdout",
          "text": "Precision: 0.9622\nRecall: 0.8537\nF1 Score: 0.9047\n",
          "output_type": "stream"
        }
      ]
    },
    {
      "cell_type": "code",
      "source": [
        "# print hasil klasifikasi report, dengan akurasi mencapai 91%\n",
        "print(classification_report(test['label'], predicted_labels, target_names=['not spam', 'spam']))"
      ],
      "metadata": {
        "execution": {
          "iopub.status.busy": "2024-10-09T09:07:57.791331Z",
          "iopub.execute_input": "2024-10-09T09:07:57.791749Z",
          "iopub.status.idle": "2024-10-09T09:07:57.809009Z",
          "shell.execute_reply.started": "2024-10-09T09:07:57.791711Z",
          "shell.execute_reply": "2024-10-09T09:07:57.807940Z"
        },
        "trusted": true,
        "id": "8zFIjhpdmCtv",
        "outputId": "fcbd5e64-7133-4239-9103-30ed516359d6"
      },
      "execution_count": null,
      "outputs": [
        {
          "name": "stdout",
          "text": "              precision    recall  f1-score   support\n\n    not spam       0.86      0.97      0.91       404\n        spam       0.96      0.85      0.90       417\n\n    accuracy                           0.91       821\n   macro avg       0.91      0.91      0.91       821\nweighted avg       0.91      0.91      0.91       821\n\n",
          "output_type": "stream"
        }
      ]
    },
    {
      "cell_type": "markdown",
      "source": [
        "### **Hasil Classification Report**\n",
        "\n",
        "- Model memiliki performa keseluruhan yang baik dengan akurasi 91%. Model memprediksi dengan benar 91% dari total 821 contoh data.\n",
        "- Recall untuk spam (0.85) lebih rendah dibandingkan recall untuk not spam (0.97), menunjukkan model agak kesulitan mendeteksi semua spam.\n",
        "- Precision untuk spam (0.96) sangat tinggi, yang berarti ketika model memprediksi spam, hasilnya sangat akurat."
      ],
      "metadata": {
        "id": "xgrsOPQ4pda7"
      }
    },
    {
      "cell_type": "code",
      "source": [
        "# Menampilkan hasil confusion matrix\n",
        "cm = confusion_matrix(test['label'], predicted_labels)\n",
        "disp = ConfusionMatrixDisplay(confusion_matrix=cm, display_labels=['not spam', 'spam'])\n",
        "disp.plot(cmap=plt.cm.Blues)\n",
        "plt.show()"
      ],
      "metadata": {
        "execution": {
          "iopub.status.busy": "2024-10-09T09:07:59.837680Z",
          "iopub.execute_input": "2024-10-09T09:07:59.838349Z",
          "iopub.status.idle": "2024-10-09T09:08:00.150905Z",
          "shell.execute_reply.started": "2024-10-09T09:07:59.838311Z",
          "shell.execute_reply": "2024-10-09T09:08:00.149892Z"
        },
        "trusted": true,
        "id": "jsDvo7LbmCtw",
        "outputId": "8cde0e8b-b958-48b8-fc2a-6cc64ba5e0bc"
      },
      "execution_count": null,
      "outputs": [
        {
          "output_type": "display_data",
          "data": {
            "text/plain": "<Figure size 640x480 with 2 Axes>",
            "image/png": "[encoded data removed]"
          },
          "metadata": {}
        }
      ]
    },
    {
      "cell_type": "markdown",
      "source": [
        "### **Hasil Confusion Matrix**\n",
        "\n",
        "- Model bekerja baik dalam mendeteksi not spam, dengan 390 prediksi benar dan hanya 14 prediksi salah.\n",
        "- Ada 61 kasus spam yang tidak terdeteksi, di mana model salah memprediksi sebagai not spam.\n",
        "- Prediksi spam juga cukup baik dengan 356 kasus yang dideteksi benar dari total kasus spam.\n",
        "\n",
        "Model bekerja baik secara umum, tetapi ada beberapa kesalahan dalam mendeteksi spam (false negatives) yang bisa lebih diperbaiki."
      ],
      "metadata": {
        "id": "GQo8rPDhpSMD"
      }
    },
    {
      "cell_type": "code",
      "source": [
        "# Membuat fungsi untuk melakukan prediksi output\n",
        "def predict_spam_ham(text):\n",
        "    inputs = tokenizer(text, return_tensors=\"pt\")\n",
        "    inputs=inputs.to(device)\n",
        "    outputs = model(**inputs)\n",
        "    probs = outputs[0].softmax(1)\n",
        "    return \"spam\" if torch.argmax(probs) == 1 else \"not spam\""
      ],
      "metadata": {
        "execution": {
          "iopub.status.busy": "2024-10-09T09:08:02.196548Z",
          "iopub.execute_input": "2024-10-09T09:08:02.197311Z",
          "iopub.status.idle": "2024-10-09T09:08:02.202314Z",
          "shell.execute_reply.started": "2024-10-09T09:08:02.197274Z",
          "shell.execute_reply": "2024-10-09T09:08:02.201347Z"
        },
        "trusted": true,
        "id": "D319rz15mCtx"
      },
      "execution_count": null,
      "outputs": []
    },
    {
      "cell_type": "code",
      "source": [
        "# Hasil prediksi output\n",
        "input_text_1 ='Selamat! Anda telah terpilih untuk mendapatkan iPhone terbaru GRATIS. Klik link berikut untuk mengklaim hadiah Anda sekarang!'\n",
        "input_text_2 = 'Ingat meeting kita besok jam 10 pagi. Jangan lupa bawa catatan pertemuan sebelumnya.'\n",
        "print(f'Output dari input text-1 : {predict_spam_ham(input_text_1)}')\n",
        "print(f'Output dari input text-2 : {predict_spam_ham(input_text_2)}')"
      ],
      "metadata": {
        "execution": {
          "iopub.status.busy": "2024-10-09T09:08:03.079585Z",
          "iopub.execute_input": "2024-10-09T09:08:03.080243Z",
          "iopub.status.idle": "2024-10-09T09:08:03.136594Z",
          "shell.execute_reply.started": "2024-10-09T09:08:03.080206Z",
          "shell.execute_reply": "2024-10-09T09:08:03.135652Z"
        },
        "trusted": true,
        "id": "p8lvNEHzmCtx",
        "outputId": "b8e3f5aa-1979-4d60-f571-ae7d278f6ae7"
      },
      "execution_count": null,
      "outputs": [
        {
          "name": "stdout",
          "text": "Output dari input text-1 : spam\nOutput dari input text-2 : not spam\n",
          "output_type": "stream"
        }
      ]
    },
    {
      "cell_type": "markdown",
      "source": [
        "### **Hasil Prediksi**\n",
        "\n",
        "Berdasarkan hasil prediksi, dapat kita simpulkan bahwa model sudah melakukan klasifikasi dengan optimal. Seluruh input sudah menghasilkan output yang sesuai:\n",
        "- Input teks 1 merupakan spam karena mengirimkan pesan dengan kata-kata promosi berlebihan dan mencurigakan, maka terdeteksi benar sebagai SPAM\n",
        "- Input teks 2 merupakan kalimat normal yang hanya menginformasikan jadwal meeting, maka terdeteksi benar sebagai NOT SPAM"
      ],
      "metadata": {
        "id": "_mczZeXIo_PN"
      }
    }
  ]
}